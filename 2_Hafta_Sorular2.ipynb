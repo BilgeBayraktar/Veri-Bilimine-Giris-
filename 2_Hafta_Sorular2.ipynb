{
  "nbformat": 4,
  "nbformat_minor": 0,
  "metadata": {
    "colab": {
      "provenance": [],
      "authorship_tag": "ABX9TyNx/BL50PE3//kXHFW/lG6m",
      "include_colab_link": true
    },
    "kernelspec": {
      "name": "python3",
      "display_name": "Python 3"
    },
    "language_info": {
      "name": "python"
    }
  },
  "cells": [
    {
      "cell_type": "markdown",
      "metadata": {
        "id": "view-in-github",
        "colab_type": "text"
      },
      "source": [
        "<a href=\"https://colab.research.google.com/github/BilgeBayraktar/Veri-Bilimine-Giris-/blob/main/2_Hafta_Sorular2.ipynb\" target=\"_parent\"><img src=\"https://colab.research.google.com/assets/colab-badge.svg\" alt=\"Open In Colab\"/></a>"
      ]
    },
    {
      "cell_type": "code",
      "execution_count": null,
      "metadata": {
        "id": "JBO3vRcnEhKk"
      },
      "outputs": [],
      "source": [
        "# 2.Hafta Sorular2 (6.soru)\n",
        "from abc import ABC, abstractmethod\n",
        "\n",
        "class Ozgecmis(ABC):\n",
        "    @abstractmethod\n",
        "    def ozgecmis_doldur(self):\n",
        "        \"\"\"Alt sınıfların doldurması gereken soyut (abstract) metot.\"\"\"\n",
        "        pass\n",
        "\n",
        "class Calisan(Ozgecmis):\n",
        "    def __init__(self, isim, maas):\n",
        "        self.isim = isim\n",
        "        self.maas = maas\n",
        "\n",
        "    @abstractmethod\n",
        "    def calis(self):\n",
        "        \"\"\"Polymorphism için kullanılacak soyut metot.\"\"\"\n",
        "        pass\n",
        "\n",
        "# Alt Sınıf 1: Mavi Yaka\n",
        "class MaviYaka(Calisan):\n",
        "    vardiya_sayisi = 3  # Özellik\n",
        "\n",
        "    def __init__(self, isim, maas):\n",
        "        super().__init__(isim, maas)\n",
        "\n",
        "    def calis(self):\n",
        "        return f\"{self.isim} fabrika içinde, tezgahta çalışıyor. ({self.vardiya_sayisi} vardiya)\"\n",
        "    def ozgecmis_doldur(self):\n",
        "        return f\"{self.isim} için mavi yaka özgeçmişi hazırlandı.\"\n",
        "\n",
        "# Alt Sınıf 2: Beyaz Yaka\n",
        "class BeyazYaka(Calisan):\n",
        "    vardiya_sayisi = 2  # Özellik\n",
        "\n",
        "    def __init__(self, isim, maas):\n",
        "        super().__init__(isim, maas)\n",
        "\n",
        "    def calis(self):\n",
        "        return f\"{self.isim} masabaşı işlerde çalışıyor. ({self.vardiya_sayisi} vardiya)\"\n",
        "\n",
        "\n",
        "    def ozgecmis_doldur(self):\n",
        "        return f\"{self.isim} için beyaz yaka özgeçmişi hazırlandı.\"\n",
        "\n",
        "mavi_yaka = MaviYaka(\"Ahmet Usta\", 8000)\n",
        "beyaz_yaka = BeyazYaka(\"Büşra Hanım\", 15000)\n",
        "\n",
        "print(mavi_yaka.calis())\n",
        "print(beyaz_yaka.calis())\n",
        "print(mavi_yaka.ozgecmis_doldur())"
      ]
    }
  ]
}