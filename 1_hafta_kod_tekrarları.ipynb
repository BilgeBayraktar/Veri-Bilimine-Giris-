{
  "nbformat": 4,
  "nbformat_minor": 0,
  "metadata": {
    "colab": {
      "provenance": [],
      "authorship_tag": "ABX9TyPW/6GM4E2jT8hhyzctpSES",
      "include_colab_link": true
    },
    "kernelspec": {
      "name": "python3",
      "display_name": "Python 3"
    },
    "language_info": {
      "name": "python"
    }
  },
  "cells": [
    {
      "cell_type": "markdown",
      "metadata": {
        "id": "view-in-github",
        "colab_type": "text"
      },
      "source": [
        "<a href=\"https://colab.research.google.com/github/BilgeBayraktar/Veri-Bilimine-Giris-/blob/main/1_hafta_kod_tekrarlar%C4%B1.ipynb\" target=\"_parent\"><img src=\"https://colab.research.google.com/assets/colab-badge.svg\" alt=\"Open In Colab\"/></a>"
      ]
    },
    {
      "cell_type": "code",
      "source": [
        "print(\"bilge\")\n",
        "print(\"bilge\",\"bayraktar\",\"T\",\"B\",\"M\",sep='.')\n"
      ],
      "metadata": {
        "colab": {
          "base_uri": "https://localhost:8080/"
        },
        "id": "xsSev_MA8njV",
        "outputId": "dd2248fe-a44f-4c03-a7e5-ad3c656f3e60"
      },
      "execution_count": null,
      "outputs": [
        {
          "output_type": "stream",
          "name": "stdout",
          "text": [
            "bilge\n",
            "bilge.bayraktar.T.B.M\n"
          ]
        }
      ]
    },
    {
      "cell_type": "code",
      "execution_count": null,
      "metadata": {
        "colab": {
          "base_uri": "https://localhost:8080/"
        },
        "id": "P-mN3euZ8i1w",
        "outputId": "89166306-64e3-4ab5-c245-58081069684d"
      },
      "outputs": [
        {
          "output_type": "execute_result",
          "data": {
            "text/plain": [
              "int"
            ]
          },
          "metadata": {},
          "execution_count": 3
        }
      ],
      "source": [
        "a = \"ali\"\n",
        "b = 5\n",
        "type(a)\n",
        "type(b)\n"
      ]
    },
    {
      "cell_type": "code",
      "source": [
        "liste2=[1,3,3,5,4,5,4]\n",
        "liste2.sort()\n",
        "liste2\n",
        "liste2[0]=100000 #mutable değişir\n",
        "liste2[0]\n",
        "liste2\n",
        "liste2.pop()\n",
        "liste2.append(25)\n",
        "liste2.insert(7,\"25\")\n",
        "liste2\n",
        "liste2[7]"
      ],
      "metadata": {
        "colab": {
          "base_uri": "https://localhost:8080/",
          "height": 36
        },
        "id": "Okn6bwk9_w01",
        "outputId": "3a879e91-349f-436c-a2e5-ee8fc08fd7fc"
      },
      "execution_count": null,
      "outputs": [
        {
          "output_type": "execute_result",
          "data": {
            "text/plain": [
              "'25'"
            ],
            "application/vnd.google.colaboratory.intrinsic+json": {
              "type": "string"
            }
          },
          "metadata": {},
          "execution_count": 10
        }
      ]
    },
    {
      "cell_type": "code",
      "source": [
        "demet=(\"ali\",\"ayşe\")\n",
        "demet\n",
        "len(demet)\n",
        "demet[0]\n",
        "dir(demet)\n",
        "demet.count(\"ali\")\n",
        "demet.index(\"ali\")\n"
      ],
      "metadata": {
        "colab": {
          "base_uri": "https://localhost:8080/"
        },
        "id": "xeyaFWdNApon",
        "outputId": "4784b2f1-b3e7-4650-8323-6500ee4b237b"
      },
      "execution_count": null,
      "outputs": [
        {
          "output_type": "execute_result",
          "data": {
            "text/plain": [
              "0"
            ]
          },
          "metadata": {},
          "execution_count": 11
        }
      ]
    },
    {
      "cell_type": "code",
      "source": [
        "x=\"sinan\"\n",
        "type(x)"
      ],
      "metadata": {
        "colab": {
          "base_uri": "https://localhost:8080/"
        },
        "id": "MUNHgfdD_A25",
        "outputId": "64db34ab-a6c6-4aee-d18a-8e4f8e42c7a4"
      },
      "execution_count": null,
      "outputs": [
        {
          "output_type": "execute_result",
          "data": {
            "text/plain": [
              "str"
            ]
          },
          "metadata": {},
          "execution_count": 9
        }
      ]
    },
    {
      "cell_type": "code",
      "source": [
        "def topla(deger,deger2):\n",
        "    print(\"{}, {} degerlerini alır\".format(deger,deger2))\n",
        "\n",
        "def selam(isim=None):\n",
        "  if isim:\n",
        "    print(f\"Merhaba, {isim}!\")\n",
        "  else:\n",
        "    print(\"Merhaba!\")\n",
        "\n",
        "topla(3,5)\n",
        "selam()\n",
        "selam(\"bilge\")"
      ],
      "metadata": {
        "colab": {
          "base_uri": "https://localhost:8080/"
        },
        "id": "C1aOl6lTBIZo",
        "outputId": "def44676-ef43-484b-b16b-dedfb9972135"
      },
      "execution_count": null,
      "outputs": [
        {
          "output_type": "stream",
          "name": "stdout",
          "text": [
            "3, 5 degerlerini alır\n",
            "Merhaba!\n",
            "Merhaba, bilge!\n"
          ]
        }
      ]
    },
    {
      "cell_type": "code",
      "source": [
        "\n",
        "def selam():\n",
        "    print(\"selam\")"
      ],
      "metadata": {
        "id": "fA3TfkRXBHtR"
      },
      "execution_count": null,
      "outputs": []
    },
    {
      "cell_type": "code",
      "source": [
        "help(print)"
      ],
      "metadata": {
        "id": "EnBn3TddBT3E"
      },
      "execution_count": null,
      "outputs": []
    },
    {
      "cell_type": "code",
      "source": [
        "def topla(a,b):\n",
        "    c=a+b\n",
        "    return c\n",
        "def kareal(a):\n",
        "    return a*a\n",
        "sonuc=kareal(4)\n",
        "print(\"istenilen değerin karesi {}: \".format(sonuc))\n",
        "sonuc=kareal(8)\n",
        "print(\"istenilen değerin karesi  \",sonuc)\n",
        "\n"
      ],
      "metadata": {
        "colab": {
          "base_uri": "https://localhost:8080/"
        },
        "id": "J4r4jwhLJovn",
        "outputId": "af4b0cde-892c-4a47-9bd3-016be6460fd4"
      },
      "execution_count": null,
      "outputs": [
        {
          "output_type": "stream",
          "name": "stdout",
          "text": [
            "istenilen değerin karesi 16: \n",
            "istenilen değerin karesi   64\n"
          ]
        }
      ]
    },
    {
      "cell_type": "code",
      "source": [
        "print(\"bilge\")\n",
        "\n",
        "def selam(d):\n",
        "    print(\"grilen deger\",d)\n",
        "a= int(input(\"1. sayıyı giriniz: \"))\n",
        "b= int(input(\"2. sayıyı giriniz: \"))\n",
        "\n",
        "def cikar(x,y):\n",
        "    print(\"sonuc :\",a-b)\n",
        "\n",
        "    return a-b\n",
        "\n",
        "def kareal(x):\n",
        "\n",
        "    #print(\"a nın karesi:\",a*a)\n",
        "\n",
        "    return a*a\n",
        "\n",
        "sonuc=cikar(a,b)\n",
        "kareal(a)\n",
        "\n",
        "cikar(5,5)"
      ],
      "metadata": {
        "colab": {
          "base_uri": "https://localhost:8080/"
        },
        "id": "Zb659nihLOcr",
        "outputId": "5e222322-9979-4209-991e-b50ee3fba8c4"
      },
      "execution_count": null,
      "outputs": [
        {
          "output_type": "stream",
          "name": "stdout",
          "text": [
            "bilge\n",
            "1. sayıyı giriniz: 7\n",
            "2. sayıyı giriniz: 9\n",
            "sonuc : -2\n",
            "sonuc : -2\n"
          ]
        },
        {
          "output_type": "execute_result",
          "data": {
            "text/plain": [
              "-2"
            ]
          },
          "metadata": {},
          "execution_count": 28
        }
      ]
    },
    {
      "cell_type": "code",
      "source": [
        "def ceyrek(x):\n",
        "    return x/4\n",
        "def küpal(x):\n",
        "    return x*x*x\n",
        "küpal(3)\n",
        "ceyrek(4)\n",
        "küpal(ceyrek(12))\n",
        "print(küpal(ceyrek(20)))\n",
        "liste1=[1,2,3,4,5]\n",
        "liste1\n",
        "\n",
        "liste2=[i*2 for i in liste1]\n",
        "liste2\n",
        "kare=lambda x:x*x\n",
        "def toplama(x,y):\n",
        "    return x+y\n",
        "\n",
        "toplama(5,5)\n",
        "toplama=lambda x,y: x+y\n",
        "toplama(5,5)\n",
        "\n"
      ],
      "metadata": {
        "colab": {
          "base_uri": "https://localhost:8080/"
        },
        "id": "HSaY8q-BMB1e",
        "outputId": "764a5e11-2b5a-4087-d1c3-308a4334fe65"
      },
      "execution_count": null,
      "outputs": [
        {
          "output_type": "stream",
          "name": "stdout",
          "text": [
            "125.0\n"
          ]
        },
        {
          "output_type": "execute_result",
          "data": {
            "text/plain": [
              "10"
            ]
          },
          "metadata": {},
          "execution_count": 25
        }
      ]
    },
    {
      "cell_type": "code",
      "source": [
        "import math as matematik\n",
        "\n",
        "matematik.pow(2,2)\n",
        "\n",
        "2**2\n",
        "\n",
        "matematik.cos(60)\n",
        "\n",
        "matematik.sin(60)\n",
        "\n",
        "\n",
        "matematik.sqrt(4)\n",
        "\n",
        "\n",
        "from math import *\n",
        "\n",
        "\n",
        "import time\n",
        "\n",
        "\n",
        "import random\n",
        "\n",
        "\n",
        "rastgele=random.randint(1,100)\n",
        "\n",
        "rastgele\n"
      ],
      "metadata": {
        "id": "YSWuxrbQNfuS",
        "colab": {
          "base_uri": "https://localhost:8080/"
        },
        "outputId": "4fb2886d-5d0f-4f17-c280-cd22f610be29"
      },
      "execution_count": 1,
      "outputs": [
        {
          "output_type": "execute_result",
          "data": {
            "text/plain": [
              "75"
            ]
          },
          "metadata": {},
          "execution_count": 1
        }
      ]
    },
    {
      "cell_type": "code",
      "source": [
        "import random\n",
        "import time\n",
        "\n",
        "\n",
        "rastgele = random.randint(1, 100)\n",
        "\n",
        "hak_sayisi = 5\n",
        "\n",
        "print(\"1 ile 100 arasındaki sayıyı tahmin etme oyununa hoş geldiniz.\")\n",
        "print(f\"Toplam {hak_sayisi} hakkınız var.\")\n",
        "\n",
        "while hak_sayisi > 0:\n",
        "\n",
        "    try:\n",
        "        tahmin = int(input(f\"\\nKalan hak: {hak_sayisi}. Tahmininizi girin (1-100): \"))\n",
        "    except ValueError:\n",
        "        print(\"Geçersiz giriş! Lütfen sadece bir sayı girin.\")\n",
        "        continue\n",
        "\n",
        "    if not (1 <= tahmin <= 100):\n",
        "        print(\"Hata: Lütfen 1 ile 100 arasında bir sayı girin.\")\n",
        "        continue\n",
        "\n",
        "    if tahmin == rastgele:\n",
        "        print(\"\\nKontrol ediliyor...\")\n",
        "        time.sleep(1)\n",
        "        print(f\"TEBRİKLER! Sayı: {rastgele}. {5 - hak_sayisi + 1} denemede buldunuz.\")\n",
        "        break\n",
        "\n",
        "    elif tahmin > rastgele:\n",
        "        print(\"Daha küçük bir sayı girin.\")\n",
        "        hak_sayisi -= 1\n",
        "\n",
        "    else:\n",
        "        print(\"Daha büyük bir sayı girin.\")\n",
        "        hak_sayisi -= 1\n",
        "\n",
        "\n",
        "if hak_sayisi == 0 and tahmin != rastgele:\n",
        "    print(\"\\nHAKKINIZ BİTTİ!\")\n",
        "    print(f\"Doğru sayı: {rastgele} idi.\")"
      ],
      "metadata": {
        "id": "btsQ_vA-NjQT",
        "colab": {
          "base_uri": "https://localhost:8080/"
        },
        "outputId": "3382575a-75d1-4fd3-c2ec-f16be0ff00da"
      },
      "execution_count": 7,
      "outputs": [
        {
          "output_type": "stream",
          "name": "stdout",
          "text": [
            "1 ile 100 arasındaki sayıyı tahmin etme oyununa hoş geldiniz.\n",
            "Toplam 5 hakkınız var.\n",
            "\n",
            "Kalan hak: 5. Tahmininizi girin (1-100): 8\n",
            "Daha büyük bir sayı girin.\n",
            "\n",
            "Kalan hak: 4. Tahmininizi girin (1-100): 96\n",
            "Daha küçük bir sayı girin.\n",
            "\n",
            "Kalan hak: 3. Tahmininizi girin (1-100): 87\n",
            "Daha küçük bir sayı girin.\n",
            "\n",
            "Kalan hak: 2. Tahmininizi girin (1-100): q\n",
            "Geçersiz giriş! Lütfen sadece bir sayı girin.\n",
            "\n",
            "Kalan hak: 2. Tahmininizi girin (1-100): 20\n",
            "Daha büyük bir sayı girin.\n",
            "\n",
            "Kalan hak: 1. Tahmininizi girin (1-100): 48\n",
            "Daha küçük bir sayı girin.\n",
            "\n",
            "HAKKINIZ BİTTİ!\n",
            "Doğru sayı: 44 idi.\n"
          ]
        }
      ]
    },
    {
      "cell_type": "code",
      "source": [
        "\n",
        "a = 5\n",
        "string = \"dogus\"\n",
        "isci_ismi = \"ali\"\n",
        "isci_yas = 50\n",
        "isci_adres = \"Beyoğlu\"\n",
        "isci_kurum = \"İSKİ\"\n",
        "\n",
        "class Calisan():\n",
        "    pass\n",
        "\n",
        "calisan1 = Calisan()\n",
        "\n",
        "calisan1.isim = isci_ismi\n",
        "calisan1.yas = isci_yas\n",
        "calisan1.adres = isci_adres\n",
        "calisan1.kurum = isci_kurum\n",
        "calisan1.pozisyon = string\n",
        "calisan1.id_numarasi = a\n",
        "\n",
        "\n",
        "print(f\"Çalışan Adı: {calisan1.isim}\")\n",
        "print(f\"Çalışan ID: {calisan1.id_numarasi}\")"
      ],
      "metadata": {
        "id": "Hsp2lWqrNl0V",
        "colab": {
          "base_uri": "https://localhost:8080/"
        },
        "outputId": "61d22b3d-8f53-4f73-e01f-f23d48789a36"
      },
      "execution_count": 9,
      "outputs": [
        {
          "output_type": "stream",
          "name": "stdout",
          "text": [
            "Çalışan Adı: ali\n",
            "Çalışan ID: 5\n"
          ]
        }
      ]
    },
    {
      "cell_type": "code",
      "source": [
        "class Arac():\n",
        "\n",
        "    renk=\"kırmızı\"\n",
        "    model=\"jeep\"\n",
        "    marka=\"Mercedes-Benz\"\n",
        "\n",
        "\n",
        "a1=Arac()\n",
        "\n",
        "print(a1)\n",
        "print(a1.marka)\n",
        "print(a1.model)\n",
        "print(a1.renk)\n",
        "\n",
        "a1.marka=\"BMW\"\n",
        "\n",
        "print(a1.marka)\n",
        "\n",
        "\n",
        "class Kare():\n",
        "    kenar=10\n",
        "\n",
        "    def alan(self):\n",
        "        alan=self.kenar*self.kenar\n",
        "        print(\"Alan\",alan)\n",
        "\n",
        "\n",
        "k1=Kare()\n",
        "\n",
        "print(k1)\n",
        "print(k1.kenar)\n",
        "\n",
        "print(k1.alan())"
      ],
      "metadata": {
        "id": "9NawqeTZN5qp",
        "colab": {
          "base_uri": "https://localhost:8080/"
        },
        "outputId": "8f910425-c7f9-44d7-9a64-9d2bbf0c7942"
      },
      "execution_count": 11,
      "outputs": [
        {
          "output_type": "stream",
          "name": "stdout",
          "text": [
            "<__main__.Arac object at 0x7f8201e886e0>\n",
            "Mercedes-Benz\n",
            "jeep\n",
            "kırmızı\n",
            "BMW\n",
            "<__main__.Kare object at 0x7f8201e48740>\n",
            "10\n",
            "Alan 100\n",
            "None\n"
          ]
        }
      ]
    },
    {
      "cell_type": "code",
      "source": [
        "class Isci():\n",
        "\n",
        "    yas=20\n",
        "    maas=1000\n",
        "\n",
        "    def yasaGoreMaasOranla(self):\n",
        "        print(self.yas/self.maas)\n",
        "\n",
        "isci1=Isci()\n",
        "\n",
        "isci1.yasaGoreMaasOranla()\n",
        "\n",
        "def yasMaasOranı(yas,maas):\n",
        "    a=yas/maas\n",
        "    print(\"oran:\\t {}\".format(a))\n",
        "\n",
        "yasMaasOranı(20,2000)"
      ],
      "metadata": {
        "id": "gWW1zLVBN-zj",
        "colab": {
          "base_uri": "https://localhost:8080/"
        },
        "outputId": "9cb33042-7642-4615-98b6-018ea4085fa6"
      },
      "execution_count": 12,
      "outputs": [
        {
          "output_type": "stream",
          "name": "stdout",
          "text": [
            "0.02\n",
            "oran:\t 0.01\n"
          ]
        }
      ]
    },
    {
      "cell_type": "code",
      "source": [
        "class Hayvan():\n",
        "\n",
        "    def __init__(self,isim,yas):\n",
        "         self.isim=isim\n",
        "         self.yas=yas\n",
        "\n",
        "    def getYas(self):\n",
        "        return self.yas\n",
        "\n",
        "    def getAd(self):\n",
        "        return self.isim\n",
        "\n",
        "h1=Hayvan(\"dog\",2)\n",
        "h1_yas=h1.getYas()\n",
        "\n",
        "print(\"h1 in yaşı :\",h1_yas)\n",
        "\n",
        "\n",
        "h1_isim=h1.getAd()\n",
        "\n",
        "print(\"h1 in isim :\",h1_isim)\n",
        "\n",
        "\n",
        "h2=Hayvan(\"cat\",3)\n",
        "h2_yas=h2.getYas()\n",
        "\n",
        "print(\"h2 in yaşı :\",h2_yas)"
      ],
      "metadata": {
        "id": "rP04le_wOJRR",
        "colab": {
          "base_uri": "https://localhost:8080/"
        },
        "outputId": "7bce47e4-452c-4b3e-d38f-409264d25fc2"
      },
      "execution_count": 13,
      "outputs": [
        {
          "output_type": "stream",
          "name": "stdout",
          "text": [
            "h1 in yaşı : 2\n",
            "h1 in isim : dog\n",
            "h2 in yaşı : 3\n"
          ]
        }
      ]
    },
    {
      "cell_type": "code",
      "source": [
        "class Makine():\n",
        "    \"hesap makinesi\"\n",
        "\n",
        "    def __init__(self,a,b):\n",
        "        \"başlangıç değerlerini ayarlar\"\n",
        "\n",
        "        \"\"\" pass \"\"\"\n",
        "\n",
        "        self.deger1=a\n",
        "        self.deger2=b\n",
        "\n",
        "\n",
        "\n",
        "    def topla(self):\n",
        "        \" toplama a+b = sonuc -> return sonucs\"\n",
        "        sonuc=self.deger1+self.deger2\n",
        "        return sonuc\n",
        "\n",
        "        \"\"\"pass\"\"\"\n",
        "\n",
        "    def carp(self):\n",
        "        \"carpma a*b= sonuc -> return sonuc\"\n",
        "        sonuc=self.deger1*self.deger2\n",
        "        return sonuc\n",
        "        \"\"\"pass\"\"\"\n",
        "\n",
        "    def cikar(self):\n",
        "\n",
        "        return self.deger1-self.deger2\n",
        "\n",
        "    def bol(self):\n",
        "\n",
        "        return self.deger1/self.deger2\n",
        "\n",
        "x=5\n",
        "y=2\n",
        "h: Makine=Makine(x,y)\n",
        "tSonuc=h.topla()\n",
        "cSonuc=h.carp()\n",
        "print(\"toplama sonuc: {}, çarpma sonucu: {}\".format(tSonuc,cSonuc))"
      ],
      "metadata": {
        "id": "tEBwotV_O1OH",
        "colab": {
          "base_uri": "https://localhost:8080/"
        },
        "outputId": "42d794f4-4a99-4f9b-ab58-40e7aace9b92"
      },
      "execution_count": 14,
      "outputs": [
        {
          "output_type": "stream",
          "name": "stdout",
          "text": [
            "toplama sonuc: 7, çarpma sonucu: 10\n"
          ]
        }
      ]
    },
    {
      "cell_type": "code",
      "source": [
        "\n",
        "class Banka():\n",
        "\n",
        "    def __init__(self,isim,para,adres):\n",
        "        self.isim=isim\n",
        "        self.para=para\n",
        "        self.adres=adres\n",
        "\n",
        "hesap1=Banka(\"Bilge\",1000,\"istanbul\")\n",
        "hesap2=Banka(\"Ayşe\",5000,\"Sinop\")\n",
        "\n",
        "hesap1.para\n",
        "\n",
        "hesap2.para=hesap2.para+hesap1.para\n",
        "\n",
        "hesap2.para\n",
        "hesap1.para=0\n",
        "hesap1.para\n",
        "\n"
      ],
      "metadata": {
        "id": "pIolaF0XO75Z",
        "colab": {
          "base_uri": "https://localhost:8080/"
        },
        "outputId": "26cae09b-10c5-4bb6-c886-f7bc776293a2"
      },
      "execution_count": 16,
      "outputs": [
        {
          "output_type": "execute_result",
          "data": {
            "text/plain": [
              "0"
            ]
          },
          "metadata": {},
          "execution_count": 16
        }
      ]
    },
    {
      "cell_type": "code",
      "source": [
        "\n",
        "class Banka2():\n",
        "\n",
        "    def __init__(self,isim,para,adres):\n",
        "        self.__isim=isim\n",
        "        self.__para=para\n",
        "        self.__adres=adres\n",
        "\n",
        "\n",
        "\n",
        "    def getPara(self):\n",
        "        return self.__para\n",
        "\n",
        "    def setPara(self,miktar):\n",
        "        self.__para=miktar\n",
        "\n",
        "    def islemSayisi(self):\n",
        "        self.__para=self.__para-10\n",
        "\n",
        "hes1=Banka2(\"Bilge\",1000,\"istanbul\")\n",
        "hes2=Banka2(\"Ayşe\",5000,\"Sinop\")\n",
        "\n",
        "print(\"1. hesaptaki para: \",hes1.getPara())\n",
        "hes1.setPara(100)\n",
        "print(\"set işlemi sonrası 1. hesaptaki para değişimi :\",hes1.getPara())\n",
        "\n",
        "#hes1.islemSayisi()\n",
        "#print(\"işlem ücreti :\",hes1.getPara())"
      ],
      "metadata": {
        "id": "oJA5bJWDPFXe",
        "colab": {
          "base_uri": "https://localhost:8080/"
        },
        "outputId": "5d248284-8e83-4681-d671-f62d7ff4fa95"
      },
      "execution_count": 17,
      "outputs": [
        {
          "output_type": "stream",
          "name": "stdout",
          "text": [
            "1. hesaptaki para:  1000\n",
            "set işlemi sonrası 1. hesaptaki para değişimi : 100\n"
          ]
        }
      ]
    },
    {
      "cell_type": "code",
      "source": [
        "class Animal():\n",
        "    def __init__(self):\n",
        "        print(\"hayvan sınıfının yapıcı metotum\")\n",
        "\n",
        "    def sesCikar(self):\n",
        "        print(\"hav,miyav,vak....\")\n",
        "\n",
        "    def hareket(self):\n",
        "        print(\"zıplar,koşar,yürür..\")\n",
        "\n",
        "\n",
        "\n",
        "class kedi(Animal):\n",
        "    def __init__(self):\n",
        "        super().__init__()\n",
        "\n",
        "        print(\"kedi sınıfı oluşturuldu\")\n",
        "\n",
        "    def sesCikar(self):\n",
        "        print(\"miyav\")\n",
        "\n",
        "    def DokuzCan(self):\n",
        "        print(\"Bu sevimli hayvanlar hep dört ayak üstüne düşer\")\n",
        "\n",
        "\n",
        "k1=kedi()\n",
        "\n",
        "k1.sesCikar()\n",
        "k1.hareket()\n",
        "\n",
        "k1.DokuzCan()\n",
        "\n",
        "\n",
        "class kus(Animal):\n",
        "\n",
        "    def __init__(self):\n",
        "        print(\"kus  sınıfı oluşturldu\")\n",
        "\n",
        "    def ucma(self):\n",
        "        print(\"kanatları vardır uçarlar\")\n",
        "\n",
        "kus1=kus()\n",
        "kus1.ucma()\n",
        "kus1.hareket()"
      ],
      "metadata": {
        "id": "ChWV5s6yPMHI",
        "colab": {
          "base_uri": "https://localhost:8080/"
        },
        "outputId": "40d5d3eb-c21c-4dfc-c013-172997c27e8b"
      },
      "execution_count": 18,
      "outputs": [
        {
          "output_type": "stream",
          "name": "stdout",
          "text": [
            "hayvan sınıfının yapıcı metotum\n",
            "kedi sınıfı oluşturuldu\n",
            "miyav\n",
            "zıplar,koşar,yürür..\n",
            "Bu sevimli hayvanlar hep dört ayak üstüne düşer\n",
            "kus  sınıfı oluşturldu\n",
            "kanatları vardır uçarlar\n",
            "zıplar,koşar,yürür..\n"
          ]
        }
      ]
    },
    {
      "cell_type": "code",
      "source": [
        "from abc import ABC, abstractmethod\n",
        "\n",
        "class Animal():\n",
        "    pass\n",
        "\n",
        "class kus(Animal):\n",
        "    pass\n",
        "\n",
        "a=Animal()"
      ],
      "metadata": {
        "id": "oZbyI85ZPUKp"
      },
      "execution_count": 20,
      "outputs": []
    },
    {
      "cell_type": "code",
      "source": [
        "from abc import ABC, abstractmethod\n",
        "\n",
        "class Animal(ABC):\n",
        "    @abstractmethod\n",
        "    def yurume(self): pass\n",
        "\n",
        "    @abstractmethod\n",
        "    def kosma(self):  pass\n",
        "\n",
        "\n",
        "class kus(Animal):\n",
        "\n",
        "    def __init__(self):\n",
        "        print(\"kuş oluşturuldu\")\n",
        "\n",
        "\n",
        "    def yurume(self):\n",
        "        print(\"kuslar pek yürümez\")\n",
        "\n",
        "\n",
        "    def kosma(self):\n",
        "        print(\"kuslar pek kosmazda\")\n",
        "\n",
        "\n",
        "b=kus()\n",
        "b.kosma()\n",
        "b.yurume()"
      ],
      "metadata": {
        "id": "8AZfsUWrPaAx",
        "colab": {
          "base_uri": "https://localhost:8080/"
        },
        "outputId": "3863130b-cc71-4585-9eff-d52ee7e83a6e"
      },
      "execution_count": 21,
      "outputs": [
        {
          "output_type": "stream",
          "name": "stdout",
          "text": [
            "kuş oluşturuldu\n",
            "kuslar pek kosmazda\n",
            "kuslar pek yürümez\n"
          ]
        }
      ]
    },
    {
      "cell_type": "code",
      "source": [
        "class Animal():\n",
        "\n",
        "    def sesVer(self):\n",
        "        print(\"ses çıkarırlar\")\n",
        "\n",
        "class kedi(Animal):\n",
        "\n",
        "     def sesVer(self):\n",
        "         print(\"miyav\")\n",
        "\n",
        "a=Animal()\n",
        "a.sesVer()\n",
        "\n",
        "k=kedi()\n",
        "k.sesVer()"
      ],
      "metadata": {
        "id": "1z8JBrkbPdrY",
        "colab": {
          "base_uri": "https://localhost:8080/"
        },
        "outputId": "e76d3616-db87-4ae8-83e0-65486462479f"
      },
      "execution_count": 22,
      "outputs": [
        {
          "output_type": "stream",
          "name": "stdout",
          "text": [
            "ses çıkarırlar\n",
            "miyav\n"
          ]
        }
      ]
    },
    {
      "cell_type": "code",
      "source": [
        "class Hayvanlar:\n",
        "    def __init__(self, isim):\n",
        "        self.isim = isim\n",
        "    def tepki(self):\n",
        "        raise NotImplementedError('HATA')\n",
        "class Kedi(Hayvanlar):\n",
        "    def tepki(self):\n",
        "        return 'Miyav!'\n",
        "class Kopek(Hayvanlar):\n",
        "    def tepki(self):\n",
        "        return 'Haav! Hav!'\n",
        "hayvan = [Kedi('Boncuk'),\n",
        "\n",
        "\n",
        "           Kedi('Tekir'),\n",
        "           Kopek('Elmas')]\n",
        "for hyvn in hayvan:\n",
        "    print(hyvn.isim + ': ' + hyvn.tepki())"
      ],
      "metadata": {
        "id": "6jNZlgdrPnnh",
        "colab": {
          "base_uri": "https://localhost:8080/"
        },
        "outputId": "6fbb591d-570b-4c73-8c53-a9d323c20bfd"
      },
      "execution_count": 24,
      "outputs": [
        {
          "output_type": "stream",
          "name": "stdout",
          "text": [
            "Boncuk: Miyav!\n",
            "Tekir: Miyav!\n",
            "Elmas: Haav! Hav!\n"
          ]
        }
      ]
    },
    {
      "cell_type": "code",
      "source": [
        "class Animal():\n",
        "     def __init__(self, name):\n",
        "            self.name = name\n",
        "     def talk(self):\n",
        "            raise NotImplementedError(\"Subclass must implement abstract method\")\n",
        "class Cat(Animal):\n",
        "      def talk(self):\n",
        "             return 'Meow!'\n",
        "class Dog(Animal):\n",
        "     def talk(self):\n",
        "        return 'Woof! Woof!'\n",
        "animals = [Cat('Mırmır'),  Cat('Mr.Kedi'), Dog('Liza')]\n",
        "\n",
        "for animal in animals:\n",
        "           print (animal.name + ': ' + animal.talk())"
      ],
      "metadata": {
        "id": "GpKBo4CQPpow",
        "colab": {
          "base_uri": "https://localhost:8080/"
        },
        "outputId": "2d5c89bb-2872-4e8b-a381-f2c2cc6072a0"
      },
      "execution_count": 26,
      "outputs": [
        {
          "output_type": "stream",
          "name": "stdout",
          "text": [
            "Mırmır: Meow!\n",
            "Mr.Kedi: Meow!\n",
            "Liza: Woof! Woof!\n"
          ]
        }
      ]
    },
    {
      "cell_type": "code",
      "source": [],
      "metadata": {
        "id": "h-AYLrIHPtGa"
      },
      "execution_count": null,
      "outputs": []
    }
  ]
}