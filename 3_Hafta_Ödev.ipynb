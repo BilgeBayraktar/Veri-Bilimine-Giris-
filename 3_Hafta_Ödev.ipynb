{
  "nbformat": 4,
  "nbformat_minor": 0,
  "metadata": {
    "colab": {
      "provenance": [],
      "authorship_tag": "ABX9TyObWCeyi2iW+S0/5ez3V9RZ",
      "include_colab_link": true
    },
    "kernelspec": {
      "name": "python3",
      "display_name": "Python 3"
    },
    "language_info": {
      "name": "python"
    }
  },
  "cells": [
    {
      "cell_type": "markdown",
      "metadata": {
        "id": "view-in-github",
        "colab_type": "text"
      },
      "source": [
        "<a href=\"https://colab.research.google.com/github/BilgeBayraktar/Veri-Bilimine-Giris-/blob/main/3_Hafta_%C3%96dev.ipynb\" target=\"_parent\"><img src=\"https://colab.research.google.com/assets/colab-badge.svg\" alt=\"Open In Colab\"/></a>"
      ]
    },
    {
      "cell_type": "markdown",
      "source": [
        "1- Kütüphanelerin yüklenmesi"
      ],
      "metadata": {
        "id": "rLBWaD4csxri"
      }
    },
    {
      "cell_type": "code",
      "source": [
        "import numpy as np\n",
        "import pandas as pd\n",
        "import seaborn as sns\n",
        "import matplotlib.pyplot as plt\n",
        "import datetime as dt\n",
        "pd.pandas.set_option('display.max_columns', None)"
      ],
      "metadata": {
        "id": "ebsLTzmTs676"
      },
      "execution_count": 1,
      "outputs": []
    },
    {
      "cell_type": "markdown",
      "source": [
        "2- Veri setinin Yüklenmesi"
      ],
      "metadata": {
        "id": "9upqXgGptDSq"
      }
    },
    {
      "cell_type": "code",
      "source": [
        "from google.colab import drive\n",
        "drive.mount('/content/drive')"
      ],
      "metadata": {
        "id": "ASzq4gXStN62"
      },
      "execution_count": null,
      "outputs": []
    },
    {
      "cell_type": "code",
      "source": [
        "data = pd.read_excel(\"/content/drive/MyDrive/veri bilimine giriş/3. hafta/MarketSales.xlsx\")"
      ],
      "metadata": {
        "id": "u3mHhNPptTby"
      },
      "execution_count": null,
      "outputs": []
    },
    {
      "cell_type": "code",
      "source": [
        "data.head()"
      ],
      "metadata": {
        "id": "0L4rkRhOtWw_"
      },
      "execution_count": null,
      "outputs": []
    },
    {
      "cell_type": "code",
      "source": [
        "data.head(2)"
      ],
      "metadata": {
        "id": "XVDrMx8StYpp"
      },
      "execution_count": null,
      "outputs": []
    },
    {
      "cell_type": "markdown",
      "source": [
        "Bilgisayara indirdiğim Excel dosyasını yükleyip soruları cevaplamak için kullandım"
      ],
      "metadata": {
        "id": "8vV7VPne9Rj1"
      }
    },
    {
      "cell_type": "code",
      "source": [
        "import pandas as pd\n",
        "from google.colab import files\n",
        "import io\n",
        "\n",
        "\n",
        "print(\"Lütfen MarketSales.xlsx dosyasını yükleyin...\")\n",
        "uploaded = files.upload()\n",
        "\n",
        "\n",
        "file_name = 'MarketSales.xlsx'\n",
        "\n",
        "if file_name not in uploaded:\n",
        "    print(f\"\\nHATA: {file_name} dosyası yüklenemedi veya yanlış adlandırıldı. Lütfen doğru dosyayı yüklediğinizden emin olun.\")\n",
        "else:\n",
        "\n",
        "    try:\n",
        "\n",
        "        orijinal_veri = pd.read_excel(io.BytesIO(uploaded[file_name]))\n",
        "        print(f\"\\n'{file_name}' dosyası başarıyla okundu.\")\n",
        "\n",
        "        yeni_veri = orijinal_veri.copy()\n",
        "\n",
        "        print(\"\\nOrijinal Veri Setinin İlk 3 Satırı (orijinal_veri):\")\n",
        "        print(orijinal_veri.head(3))\n",
        "\n",
        "        print(\"\\nKopyalanan Veri Setinin İlk 3 Satırı (yeni_veri):\")\n",
        "        print(yeni_veri.head(3))\n",
        "\n",
        "        print(\"\\nArtık 'yeni_veri' üzerinde yaptığınız tüm değişiklikler 'orijinal_veri'yi etkilemeyecektir.\")\n",
        "\n",
        "    except Exception as e:\n",
        "        print(f\"\\nDosya okuma sırasında bir hata oluştu: {e}\")"
      ],
      "metadata": {
        "colab": {
          "base_uri": "https://localhost:8080/",
          "height": 1000
        },
        "id": "Ir5XBHb36AVd",
        "outputId": "772c39fe-36b4-480e-a9fb-bdfa1f7ba40e"
      },
      "execution_count": 4,
      "outputs": [
        {
          "output_type": "stream",
          "name": "stdout",
          "text": [
            "Lütfen MarketSales.xlsx dosyasını yükleyin...\n"
          ]
        },
        {
          "output_type": "display_data",
          "data": {
            "text/plain": [
              "<IPython.core.display.HTML object>"
            ],
            "text/html": [
              "\n",
              "     <input type=\"file\" id=\"files-14f0d769-6000-4f9e-a952-d2724bfef0fd\" name=\"files[]\" multiple disabled\n",
              "        style=\"border:none\" />\n",
              "     <output id=\"result-14f0d769-6000-4f9e-a952-d2724bfef0fd\">\n",
              "      Upload widget is only available when the cell has been executed in the\n",
              "      current browser session. Please rerun this cell to enable.\n",
              "      </output>\n",
              "      <script>// Copyright 2017 Google LLC\n",
              "//\n",
              "// Licensed under the Apache License, Version 2.0 (the \"License\");\n",
              "// you may not use this file except in compliance with the License.\n",
              "// You may obtain a copy of the License at\n",
              "//\n",
              "//      http://www.apache.org/licenses/LICENSE-2.0\n",
              "//\n",
              "// Unless required by applicable law or agreed to in writing, software\n",
              "// distributed under the License is distributed on an \"AS IS\" BASIS,\n",
              "// WITHOUT WARRANTIES OR CONDITIONS OF ANY KIND, either express or implied.\n",
              "// See the License for the specific language governing permissions and\n",
              "// limitations under the License.\n",
              "\n",
              "/**\n",
              " * @fileoverview Helpers for google.colab Python module.\n",
              " */\n",
              "(function(scope) {\n",
              "function span(text, styleAttributes = {}) {\n",
              "  const element = document.createElement('span');\n",
              "  element.textContent = text;\n",
              "  for (const key of Object.keys(styleAttributes)) {\n",
              "    element.style[key] = styleAttributes[key];\n",
              "  }\n",
              "  return element;\n",
              "}\n",
              "\n",
              "// Max number of bytes which will be uploaded at a time.\n",
              "const MAX_PAYLOAD_SIZE = 100 * 1024;\n",
              "\n",
              "function _uploadFiles(inputId, outputId) {\n",
              "  const steps = uploadFilesStep(inputId, outputId);\n",
              "  const outputElement = document.getElementById(outputId);\n",
              "  // Cache steps on the outputElement to make it available for the next call\n",
              "  // to uploadFilesContinue from Python.\n",
              "  outputElement.steps = steps;\n",
              "\n",
              "  return _uploadFilesContinue(outputId);\n",
              "}\n",
              "\n",
              "// This is roughly an async generator (not supported in the browser yet),\n",
              "// where there are multiple asynchronous steps and the Python side is going\n",
              "// to poll for completion of each step.\n",
              "// This uses a Promise to block the python side on completion of each step,\n",
              "// then passes the result of the previous step as the input to the next step.\n",
              "function _uploadFilesContinue(outputId) {\n",
              "  const outputElement = document.getElementById(outputId);\n",
              "  const steps = outputElement.steps;\n",
              "\n",
              "  const next = steps.next(outputElement.lastPromiseValue);\n",
              "  return Promise.resolve(next.value.promise).then((value) => {\n",
              "    // Cache the last promise value to make it available to the next\n",
              "    // step of the generator.\n",
              "    outputElement.lastPromiseValue = value;\n",
              "    return next.value.response;\n",
              "  });\n",
              "}\n",
              "\n",
              "/**\n",
              " * Generator function which is called between each async step of the upload\n",
              " * process.\n",
              " * @param {string} inputId Element ID of the input file picker element.\n",
              " * @param {string} outputId Element ID of the output display.\n",
              " * @return {!Iterable<!Object>} Iterable of next steps.\n",
              " */\n",
              "function* uploadFilesStep(inputId, outputId) {\n",
              "  const inputElement = document.getElementById(inputId);\n",
              "  inputElement.disabled = false;\n",
              "\n",
              "  const outputElement = document.getElementById(outputId);\n",
              "  outputElement.innerHTML = '';\n",
              "\n",
              "  const pickedPromise = new Promise((resolve) => {\n",
              "    inputElement.addEventListener('change', (e) => {\n",
              "      resolve(e.target.files);\n",
              "    });\n",
              "  });\n",
              "\n",
              "  const cancel = document.createElement('button');\n",
              "  inputElement.parentElement.appendChild(cancel);\n",
              "  cancel.textContent = 'Cancel upload';\n",
              "  const cancelPromise = new Promise((resolve) => {\n",
              "    cancel.onclick = () => {\n",
              "      resolve(null);\n",
              "    };\n",
              "  });\n",
              "\n",
              "  // Wait for the user to pick the files.\n",
              "  const files = yield {\n",
              "    promise: Promise.race([pickedPromise, cancelPromise]),\n",
              "    response: {\n",
              "      action: 'starting',\n",
              "    }\n",
              "  };\n",
              "\n",
              "  cancel.remove();\n",
              "\n",
              "  // Disable the input element since further picks are not allowed.\n",
              "  inputElement.disabled = true;\n",
              "\n",
              "  if (!files) {\n",
              "    return {\n",
              "      response: {\n",
              "        action: 'complete',\n",
              "      }\n",
              "    };\n",
              "  }\n",
              "\n",
              "  for (const file of files) {\n",
              "    const li = document.createElement('li');\n",
              "    li.append(span(file.name, {fontWeight: 'bold'}));\n",
              "    li.append(span(\n",
              "        `(${file.type || 'n/a'}) - ${file.size} bytes, ` +\n",
              "        `last modified: ${\n",
              "            file.lastModifiedDate ? file.lastModifiedDate.toLocaleDateString() :\n",
              "                                    'n/a'} - `));\n",
              "    const percent = span('0% done');\n",
              "    li.appendChild(percent);\n",
              "\n",
              "    outputElement.appendChild(li);\n",
              "\n",
              "    const fileDataPromise = new Promise((resolve) => {\n",
              "      const reader = new FileReader();\n",
              "      reader.onload = (e) => {\n",
              "        resolve(e.target.result);\n",
              "      };\n",
              "      reader.readAsArrayBuffer(file);\n",
              "    });\n",
              "    // Wait for the data to be ready.\n",
              "    let fileData = yield {\n",
              "      promise: fileDataPromise,\n",
              "      response: {\n",
              "        action: 'continue',\n",
              "      }\n",
              "    };\n",
              "\n",
              "    // Use a chunked sending to avoid message size limits. See b/62115660.\n",
              "    let position = 0;\n",
              "    do {\n",
              "      const length = Math.min(fileData.byteLength - position, MAX_PAYLOAD_SIZE);\n",
              "      const chunk = new Uint8Array(fileData, position, length);\n",
              "      position += length;\n",
              "\n",
              "      const base64 = btoa(String.fromCharCode.apply(null, chunk));\n",
              "      yield {\n",
              "        response: {\n",
              "          action: 'append',\n",
              "          file: file.name,\n",
              "          data: base64,\n",
              "        },\n",
              "      };\n",
              "\n",
              "      let percentDone = fileData.byteLength === 0 ?\n",
              "          100 :\n",
              "          Math.round((position / fileData.byteLength) * 100);\n",
              "      percent.textContent = `${percentDone}% done`;\n",
              "\n",
              "    } while (position < fileData.byteLength);\n",
              "  }\n",
              "\n",
              "  // All done.\n",
              "  yield {\n",
              "    response: {\n",
              "      action: 'complete',\n",
              "    }\n",
              "  };\n",
              "}\n",
              "\n",
              "scope.google = scope.google || {};\n",
              "scope.google.colab = scope.google.colab || {};\n",
              "scope.google.colab._files = {\n",
              "  _uploadFiles,\n",
              "  _uploadFilesContinue,\n",
              "};\n",
              "})(self);\n",
              "</script> "
            ]
          },
          "metadata": {}
        },
        {
          "output_type": "stream",
          "name": "stdout",
          "text": [
            "Saving MarketSales.xlsx to MarketSales.xlsx\n",
            "\n",
            "'MarketSales.xlsx' dosyası başarıyla okundu.\n",
            "\n",
            "Orijinal Veri Setinin İlk 3 Satırı (orijinal_veri):\n",
            "        ID  ITEMCODE                         ITEMNAME  FICHENO      DATE_  \\\n",
            "0  11738.0    5863.0  SPRITE 1 LT LIMON AROMALI GAZOZ    18456 2017-01-07   \n",
            "1  10537.0       8.0                        TOZ SEKER    18105 2017-01-06   \n",
            "2  11335.0    5979.0             FALIM SAKIZ 5LI NANE    18350 2017-01-03   \n",
            "\n",
            "   AMOUNT  PRICE  LINENETTOTAL  LINENET  BRANCHNR           BRANCH  \\\n",
            "0     1.0   2.00          2.00     1.85      52.0   Kocaeli Subesi   \n",
            "1     5.0   2.65         13.25    12.27       8.0   Antalya Subesi   \n",
            "2     1.0   0.40          0.40     0.37      40.0  İstanbul Subesi   \n",
            "\n",
            "       SALESMAN      CITY   REGION  LATITUDE  LONGITUDE CLIENTCODE  \\\n",
            "0     Eyüp CİNE   Kocaeli  Marmara   40.8533    29.8815     467369   \n",
            "1  İlhan ÖRENLİ   Antalya  Akdeniz   36.8841    30.7056     131464   \n",
            "2  İsmet SARTIK  İstanbul  Marmara   41.0053    28.9770     656969   \n",
            "\n",
            "       CLIENTNAME BRANDCODE   BRAND CATEGORY_NAME1   CATEGORY_NAME2  \\\n",
            "0  Sercan KIZILOK       156  SPRİTE         İÇECEK     GAZLI İÇECEK   \n",
            "1    İsmet ŞINGIR       NaN     NaN         İÇECEK        ÇAY KAHVE   \n",
            "2     Yağız KUBAL       300   FALIM           GIDA  SAKIZ SEKERLEME   \n",
            "\n",
            "       CATEGORY_NAME3           STARTDATE             ENDDATE GENDER  \n",
            "0               GAZOZ 2017-01-08 16:16:11 2017-01-08 16:17:13      E  \n",
            "1  SEKER TATLANDIRICI 2017-01-07 11:04:34 2017-01-07 11:05:37      E  \n",
            "2               SAKIZ 2017-01-04 14:00:03 2017-01-04 14:01:01      E  \n",
            "\n",
            "Kopyalanan Veri Setinin İlk 3 Satırı (yeni_veri):\n",
            "        ID  ITEMCODE                         ITEMNAME  FICHENO      DATE_  \\\n",
            "0  11738.0    5863.0  SPRITE 1 LT LIMON AROMALI GAZOZ    18456 2017-01-07   \n",
            "1  10537.0       8.0                        TOZ SEKER    18105 2017-01-06   \n",
            "2  11335.0    5979.0             FALIM SAKIZ 5LI NANE    18350 2017-01-03   \n",
            "\n",
            "   AMOUNT  PRICE  LINENETTOTAL  LINENET  BRANCHNR           BRANCH  \\\n",
            "0     1.0   2.00          2.00     1.85      52.0   Kocaeli Subesi   \n",
            "1     5.0   2.65         13.25    12.27       8.0   Antalya Subesi   \n",
            "2     1.0   0.40          0.40     0.37      40.0  İstanbul Subesi   \n",
            "\n",
            "       SALESMAN      CITY   REGION  LATITUDE  LONGITUDE CLIENTCODE  \\\n",
            "0     Eyüp CİNE   Kocaeli  Marmara   40.8533    29.8815     467369   \n",
            "1  İlhan ÖRENLİ   Antalya  Akdeniz   36.8841    30.7056     131464   \n",
            "2  İsmet SARTIK  İstanbul  Marmara   41.0053    28.9770     656969   \n",
            "\n",
            "       CLIENTNAME BRANDCODE   BRAND CATEGORY_NAME1   CATEGORY_NAME2  \\\n",
            "0  Sercan KIZILOK       156  SPRİTE         İÇECEK     GAZLI İÇECEK   \n",
            "1    İsmet ŞINGIR       NaN     NaN         İÇECEK        ÇAY KAHVE   \n",
            "2     Yağız KUBAL       300   FALIM           GIDA  SAKIZ SEKERLEME   \n",
            "\n",
            "       CATEGORY_NAME3           STARTDATE             ENDDATE GENDER  \n",
            "0               GAZOZ 2017-01-08 16:16:11 2017-01-08 16:17:13      E  \n",
            "1  SEKER TATLANDIRICI 2017-01-07 11:04:34 2017-01-07 11:05:37      E  \n",
            "2               SAKIZ 2017-01-04 14:00:03 2017-01-04 14:01:01      E  \n",
            "\n",
            "Artık 'yeni_veri' üzerinde yaptığınız tüm değişiklikler 'orijinal_veri'yi etkilemeyecektir.\n"
          ]
        }
      ]
    },
    {
      "cell_type": "markdown",
      "source": [
        "3- Veri setinin Orjinalinde değişiklik gelmemesi için veriyi başka bir değişkene atayın"
      ],
      "metadata": {
        "id": "_yDi1A0ltaOz"
      }
    },
    {
      "cell_type": "code",
      "source": [
        "import pandas as pd\n",
        "\n",
        "dosya_adi = 'MarketSales.xlsx'\n",
        "try:\n",
        "    orijinal_veri = pd.read_excel(dosya_adi)\n",
        "    print(f\"'{dosya_adi}' dosyası başarıyla okundu.\")\n",
        "except FileNotFoundError:\n",
        "    print(f\"HATA: '{dosya_adi}' dosyası bulunamadı. Lütfen dosya adını ve yolunu kontrol edin.\")\n",
        "    exit()\n",
        "yeni_veri = orijinal_veri.copy()\n",
        "\n",
        "print(\"\\nVeri Kopyalama İşlemi Tamamlandı.\")\n",
        "print(f\"Orijinal Değişken Adı: orijinal_veri\")\n",
        "print(f\"Kopya Değişken Adı: yeni_veri\")\n"
      ],
      "metadata": {
        "id": "Bqp_quRFtcjz",
        "colab": {
          "base_uri": "https://localhost:8080/"
        },
        "outputId": "84deb40b-cf16-4d83-d7e9-3e4d3afb024f"
      },
      "execution_count": 22,
      "outputs": [
        {
          "output_type": "stream",
          "name": "stdout",
          "text": [
            "'MarketSales.xlsx' dosyası başarıyla okundu.\n",
            "\n",
            "Veri Kopyalama İşlemi Tamamlandı.\n",
            "Orijinal Değişken Adı: orijinal_veri\n",
            "Kopya Değişken Adı: yeni_veri\n"
          ]
        }
      ]
    },
    {
      "cell_type": "markdown",
      "source": [
        " 4-Veri setinin boyutlarına bulunuz"
      ],
      "metadata": {
        "id": "wh4VFYOetc1X"
      }
    },
    {
      "cell_type": "code",
      "source": [
        "print(\"4- Veri Seti Boyutları (Satır, Sütun):\")\n",
        "print(yeni_veri.shape)\n"
      ],
      "metadata": {
        "id": "pCTEbvIqtiJM",
        "colab": {
          "base_uri": "https://localhost:8080/"
        },
        "outputId": "49046376-2aa0-47de-94e9-818814eedca4"
      },
      "execution_count": 6,
      "outputs": [
        {
          "output_type": "stream",
          "name": "stdout",
          "text": [
            "4- Veri Seti Boyutları (Satır, Sütun):\n",
            "(611108, 26)\n"
          ]
        }
      ]
    },
    {
      "cell_type": "markdown",
      "source": [
        "5-Veri setinin sütunlarının İsimlerini Yazdırın"
      ],
      "metadata": {
        "id": "3VMP-W5Dtjkk"
      }
    },
    {
      "cell_type": "code",
      "source": [
        "print(\"5- Sütun İsimleri:\")\n",
        "print(yeni_veri.columns.tolist())"
      ],
      "metadata": {
        "id": "w-8Jzhymum1n",
        "colab": {
          "base_uri": "https://localhost:8080/"
        },
        "outputId": "5d5f542e-513a-4d14-d302-fd4c06064caf"
      },
      "execution_count": 7,
      "outputs": [
        {
          "output_type": "stream",
          "name": "stdout",
          "text": [
            "5- Sütun İsimleri:\n",
            "['ID', 'ITEMCODE', 'ITEMNAME', 'FICHENO', 'DATE_', 'AMOUNT', 'PRICE', 'LINENETTOTAL', 'LINENET', 'BRANCHNR', 'BRANCH', 'SALESMAN', 'CITY', 'REGION', 'LATITUDE', 'LONGITUDE', 'CLIENTCODE', 'CLIENTNAME', 'BRANDCODE', 'BRAND', 'CATEGORY_NAME1', 'CATEGORY_NAME2', 'CATEGORY_NAME3', 'STARTDATE', 'ENDDATE', 'GENDER']\n"
          ]
        }
      ]
    },
    {
      "cell_type": "markdown",
      "source": [
        "6- Veri setinin bilgilerine ulaşılması"
      ],
      "metadata": {
        "id": "7c5TOunpuvKz"
      }
    },
    {
      "cell_type": "code",
      "source": [
        "print(\"6- Veri Setinin Bilgileri (info()):\")\n",
        "yeni_veri.info()"
      ],
      "metadata": {
        "id": "piSs-QugtwRz",
        "colab": {
          "base_uri": "https://localhost:8080/"
        },
        "outputId": "06bb907f-f589-4fd3-c526-778902515629"
      },
      "execution_count": 8,
      "outputs": [
        {
          "output_type": "stream",
          "name": "stdout",
          "text": [
            "6- Veri Setinin Bilgileri (info()):\n",
            "<class 'pandas.core.frame.DataFrame'>\n",
            "RangeIndex: 611108 entries, 0 to 611107\n",
            "Data columns (total 26 columns):\n",
            " #   Column          Non-Null Count   Dtype         \n",
            "---  ------          --------------   -----         \n",
            " 0   ID              611107 non-null  float64       \n",
            " 1   ITEMCODE        603941 non-null  float64       \n",
            " 2   ITEMNAME        603941 non-null  object        \n",
            " 3   FICHENO         611108 non-null  int64         \n",
            " 4   DATE_           611107 non-null  datetime64[ns]\n",
            " 5   AMOUNT          611107 non-null  float64       \n",
            " 6   PRICE           611107 non-null  float64       \n",
            " 7   LINENETTOTAL    611107 non-null  float64       \n",
            " 8   LINENET         611107 non-null  float64       \n",
            " 9   BRANCHNR        611107 non-null  float64       \n",
            " 10  BRANCH          611107 non-null  object        \n",
            " 11  SALESMAN        611108 non-null  object        \n",
            " 12  CITY            611107 non-null  object        \n",
            " 13  REGION          611107 non-null  object        \n",
            " 14  LATITUDE        611107 non-null  float64       \n",
            " 15  LONGITUDE       611107 non-null  float64       \n",
            " 16  CLIENTCODE      592760 non-null  object        \n",
            " 17  CLIENTNAME      592743 non-null  object        \n",
            " 18  BRANDCODE       575551 non-null  object        \n",
            " 19  BRAND           575551 non-null  object        \n",
            " 20  CATEGORY_NAME1  603941 non-null  object        \n",
            " 21  CATEGORY_NAME2  583448 non-null  object        \n",
            " 22  CATEGORY_NAME3  401649 non-null  object        \n",
            " 23  STARTDATE       611108 non-null  datetime64[ns]\n",
            " 24  ENDDATE         611108 non-null  datetime64[ns]\n",
            " 25  GENDER          592743 non-null  object        \n",
            "dtypes: datetime64[ns](3), float64(9), int64(1), object(13)\n",
            "memory usage: 121.2+ MB\n"
          ]
        }
      ]
    },
    {
      "cell_type": "markdown",
      "source": [
        "7- Veri setinde boş değer var mı sorgulanması"
      ],
      "metadata": {
        "id": "uJlePxwyttdV"
      }
    },
    {
      "cell_type": "code",
      "source": [
        "print(\"7- Veri Setinde Boş Değer Var mı?:\")\n",
        "print(yeni_veri.isnull().values.any())\n"
      ],
      "metadata": {
        "id": "kKYyRaLLt4A5",
        "colab": {
          "base_uri": "https://localhost:8080/"
        },
        "outputId": "397e2dc5-8059-40c4-a181-e404e82e7b05"
      },
      "execution_count": 9,
      "outputs": [
        {
          "output_type": "stream",
          "name": "stdout",
          "text": [
            "7- Veri Setinde Boş Değer Var mı?:\n",
            "True\n"
          ]
        }
      ]
    },
    {
      "cell_type": "markdown",
      "source": [
        "8- Veri setindeki Sütunlarda toplam kaç adet değer var bulunuz"
      ],
      "metadata": {
        "id": "XXv8fspAtwwy"
      }
    },
    {
      "cell_type": "code",
      "source": [
        "print(\"8- Sütunlarda Toplam Kaç Adet Boş Olmayan Değer Var (count()):\")\n",
        "print(yeni_veri.count())"
      ],
      "metadata": {
        "id": "daY-98sWt3Kl",
        "colab": {
          "base_uri": "https://localhost:8080/"
        },
        "outputId": "cf897d20-e127-401b-f318-d906f852e08f"
      },
      "execution_count": 10,
      "outputs": [
        {
          "output_type": "stream",
          "name": "stdout",
          "text": [
            "8- Sütunlarda Toplam Kaç Adet Boş Olmayan Değer Var (count()):\n",
            "ID                611107\n",
            "ITEMCODE          603941\n",
            "ITEMNAME          603941\n",
            "FICHENO           611108\n",
            "DATE_             611107\n",
            "AMOUNT            611107\n",
            "PRICE             611107\n",
            "LINENETTOTAL      611107\n",
            "LINENET           611107\n",
            "BRANCHNR          611107\n",
            "BRANCH            611107\n",
            "SALESMAN          611108\n",
            "CITY              611107\n",
            "REGION            611107\n",
            "LATITUDE          611107\n",
            "LONGITUDE         611107\n",
            "CLIENTCODE        592760\n",
            "CLIENTNAME        592743\n",
            "BRANDCODE         575551\n",
            "BRAND             575551\n",
            "CATEGORY_NAME1    603941\n",
            "CATEGORY_NAME2    583448\n",
            "CATEGORY_NAME3    401649\n",
            "STARTDATE         611108\n",
            "ENDDATE           611108\n",
            "GENDER            592743\n",
            "dtype: int64\n"
          ]
        }
      ]
    },
    {
      "cell_type": "markdown",
      "source": [
        "9- Verisetinde Toplam Kaç Adet Değer Var Bulunuz"
      ],
      "metadata": {
        "id": "gdAkoob5tzpC"
      }
    },
    {
      "cell_type": "code",
      "source": [
        "print(\"9- Veri Setinde Toplam Değer Sayısı (Satır * Sütun):\")\n",
        "toplam_hucre = yeni_veri.shape[0] * yeni_veri.shape[1]\n",
        "print(toplam_hucre)"
      ],
      "metadata": {
        "id": "m8sSbBODt2NJ",
        "colab": {
          "base_uri": "https://localhost:8080/"
        },
        "outputId": "07e1e28b-ef34-47fe-eb71-90ecb8a0ee27"
      },
      "execution_count": 11,
      "outputs": [
        {
          "output_type": "stream",
          "name": "stdout",
          "text": [
            "9- Veri Setinde Toplam Değer Sayısı (Satır * Sütun):\n",
            "15888808\n"
          ]
        }
      ]
    },
    {
      "cell_type": "markdown",
      "source": [
        "10- Veri setinde Boş Değer Olan Sütunların İsimlerini yazdıralım"
      ],
      "metadata": {
        "id": "FnZhXNOot6eA"
      }
    },
    {
      "cell_type": "code",
      "source": [
        "print(\"10- Boş Değer İçeren Sütun İsimleri ve Toplam Boş Sayısı:\")\n",
        "bos_degerler = yeni_veri.isnull().sum()\n",
        "bos_sutunlar = bos_degerler[bos_degerler > 0]\n",
        "print(bos_sutunlar)"
      ],
      "metadata": {
        "id": "FjokW5_kt9hU",
        "colab": {
          "base_uri": "https://localhost:8080/"
        },
        "outputId": "752525c1-d407-4b90-af13-c70c9b42b899"
      },
      "execution_count": 13,
      "outputs": [
        {
          "output_type": "stream",
          "name": "stdout",
          "text": [
            "10- Boş Değer İçeren Sütun İsimleri ve Toplam Boş Sayısı:\n",
            "ID                     1\n",
            "ITEMCODE            7167\n",
            "ITEMNAME            7167\n",
            "DATE_                  1\n",
            "AMOUNT                 1\n",
            "PRICE                  1\n",
            "LINENETTOTAL           1\n",
            "LINENET                1\n",
            "BRANCHNR               1\n",
            "BRANCH                 1\n",
            "CITY                   1\n",
            "REGION                 1\n",
            "LATITUDE               1\n",
            "LONGITUDE              1\n",
            "CLIENTCODE         18348\n",
            "CLIENTNAME         18365\n",
            "BRANDCODE          35557\n",
            "BRAND              35557\n",
            "CATEGORY_NAME1      7167\n",
            "CATEGORY_NAME2     27660\n",
            "CATEGORY_NAME3    209459\n",
            "GENDER             18365\n",
            "dtype: int64\n"
          ]
        }
      ]
    },
    {
      "cell_type": "markdown",
      "source": [
        "11-Veri setinin sütunlarında kaç farklı tip var onu bulalım"
      ],
      "metadata": {
        "id": "BDSY9CfGt97N"
      }
    },
    {
      "cell_type": "code",
      "source": [
        "print(\"11- Sütunlarda Kaç Farklı Veri Tipi Var:\")\n",
        "farkli_tipler = yeni_veri.dtypes.nunique()\n",
        "print(farkli_tipler)"
      ],
      "metadata": {
        "id": "nFeJJzHht_1q",
        "colab": {
          "base_uri": "https://localhost:8080/"
        },
        "outputId": "50089cc8-bf88-471b-9fff-cda1c844d8e8"
      },
      "execution_count": 12,
      "outputs": [
        {
          "output_type": "stream",
          "name": "stdout",
          "text": [
            "11- Sütunlarda Kaç Farklı Veri Tipi Var:\n",
            "4\n"
          ]
        }
      ]
    },
    {
      "cell_type": "markdown",
      "source": [
        "12- Veri setinin sütunlarındaki eşsiz tipler nelerdir onlara bakalım"
      ],
      "metadata": {
        "id": "lAvuRu5tuAP8"
      }
    },
    {
      "cell_type": "code",
      "source": [
        "print(\"12- Sütunlardaki Eşsiz Veri Tipleri:\")\n",
        "print(yeni_veri.dtypes.unique())"
      ],
      "metadata": {
        "id": "GlFUIREsuCW4",
        "colab": {
          "base_uri": "https://localhost:8080/"
        },
        "outputId": "1995add4-98ce-4d81-f542-e11375f5b394"
      },
      "execution_count": 14,
      "outputs": [
        {
          "output_type": "stream",
          "name": "stdout",
          "text": [
            "12- Sütunlardaki Eşsiz Veri Tipleri:\n",
            "[dtype('float64') dtype('O') dtype('int64') dtype('<M8[ns]')]\n"
          ]
        }
      ]
    },
    {
      "cell_type": "markdown",
      "source": [
        "13-Veri setinin İlk 5 Satırını Yazdıralım"
      ],
      "metadata": {
        "id": "aMGwj8ShuC9Q"
      }
    },
    {
      "cell_type": "code",
      "source": [
        "print(\"13- Veri Setinin İlk 5 Satırı (head()):\")\n",
        "print(yeni_veri.head(5))"
      ],
      "metadata": {
        "id": "lghWYU6guE85",
        "colab": {
          "base_uri": "https://localhost:8080/"
        },
        "outputId": "c6042bb0-4aff-4a40-aa1f-c4cb925002f5"
      },
      "execution_count": 18,
      "outputs": [
        {
          "output_type": "stream",
          "name": "stdout",
          "text": [
            "13- Veri Setinin İlk 5 Satırı (head()):\n",
            "        ID  ITEMCODE                         ITEMNAME  FICHENO      DATE_  \\\n",
            "0  11738.0    5863.0  SPRITE 1 LT LIMON AROMALI GAZOZ    18456 2017-01-07   \n",
            "1  10537.0       8.0                        TOZ SEKER    18105 2017-01-06   \n",
            "2  11335.0    5979.0             FALIM SAKIZ 5LI NANE    18350 2017-01-03   \n",
            "3  11336.0    5979.0             FALIM SAKIZ 5LI NANE    18350 2017-01-03   \n",
            "4  10115.0   12808.0            FALIM SAKIZ 5LI CILEK    18005 2017-01-05   \n",
            "\n",
            "   AMOUNT  PRICE  LINENETTOTAL  LINENET  BRANCHNR           BRANCH  \\\n",
            "0     1.0   2.00          2.00     1.85      52.0   Kocaeli Subesi   \n",
            "1     5.0   2.65         13.25    12.27       8.0   Antalya Subesi   \n",
            "2     1.0   0.40          0.40     0.37      40.0  İstanbul Subesi   \n",
            "3     1.0   0.40          0.40     0.37      40.0  İstanbul Subesi   \n",
            "4     1.0   0.40          0.40     0.37      41.0     İzmir Subesi   \n",
            "\n",
            "       SALESMAN      CITY   REGION  LATITUDE  LONGITUDE CLIENTCODE  \\\n",
            "0     Eyüp CİNE   Kocaeli  Marmara   40.8533    29.8815     467369   \n",
            "1  İlhan ÖRENLİ   Antalya  Akdeniz   36.8841    30.7056     131464   \n",
            "2  İsmet SARTIK  İstanbul  Marmara   41.0053    28.9770     656969   \n",
            "3  İsmet SARTIK  İstanbul  Marmara   41.0053    28.9770     656969   \n",
            "4  Gülten IŞLAK     İzmir      Ege   38.4189    27.1287     447336   \n",
            "\n",
            "       CLIENTNAME BRANDCODE   BRAND CATEGORY_NAME1   CATEGORY_NAME2  \\\n",
            "0  Sercan KIZILOK       156  SPRİTE         İÇECEK     GAZLI İÇECEK   \n",
            "1    İsmet ŞINGIR       NaN     NaN         İÇECEK        ÇAY KAHVE   \n",
            "2     Yağız KUBAL       300   FALIM           GIDA  SAKIZ SEKERLEME   \n",
            "3     Yağız KUBAL       300   FALIM           GIDA  SAKIZ SEKERLEME   \n",
            "4    Habibe AYSAN       300   FALIM           GIDA  SAKIZ SEKERLEME   \n",
            "\n",
            "       CATEGORY_NAME3           STARTDATE             ENDDATE GENDER  \n",
            "0               GAZOZ 2017-01-08 16:16:11 2017-01-08 16:17:13      E  \n",
            "1  SEKER TATLANDIRICI 2017-01-07 11:04:34 2017-01-07 11:05:37      E  \n",
            "2               SAKIZ 2017-01-04 14:00:03 2017-01-04 14:01:01      E  \n",
            "3               SAKIZ 2017-01-04 14:00:03 2017-01-04 14:01:01      E  \n",
            "4               SAKIZ 2017-01-06 14:00:30 2017-01-06 14:01:03      K  \n"
          ]
        }
      ]
    },
    {
      "cell_type": "markdown",
      "source": [
        "14-Veri setinin son 7 Satırını Yazdıralım"
      ],
      "metadata": {
        "id": "VVV5X4AiuFMF"
      }
    },
    {
      "cell_type": "code",
      "source": [
        "print(\"14- Veri Setinin Son 7 Satırı (tail(7)):\")\n",
        "print(yeni_veri.tail(7))\n"
      ],
      "metadata": {
        "id": "-Hyqj4cfuG-O",
        "colab": {
          "base_uri": "https://localhost:8080/"
        },
        "outputId": "c7038bf9-8717-4d7e-9111-14522d24d89e"
      },
      "execution_count": 17,
      "outputs": [
        {
          "output_type": "stream",
          "name": "stdout",
          "text": [
            "14- Veri Setinin Son 7 Satırı (tail(7)):\n",
            "              ID  ITEMCODE                  ITEMNAME  FICHENO      DATE_  \\\n",
            "611101  511342.0    6480.0  UNO KEPEKLI EKMEK 470GR.   134601 2017-03-18   \n",
            "611102  512198.0       7.0              EKMEK 250 GR   134742 2017-03-18   \n",
            "611103  511703.0       7.0              EKMEK 250 GR   134656 2017-03-18   \n",
            "611104  511496.0       7.0              EKMEK 250 GR   134630 2017-03-18   \n",
            "611105  492612.0       7.0              EKMEK 250 GR   130100 2017-03-15   \n",
            "611106  512343.0       7.0              EKMEK 250 GR   134762 2017-03-18   \n",
            "611107  512179.0    3942.0    ETI 80 GR KARAM BITTER   134738 2017-03-18   \n",
            "\n",
            "        AMOUNT  PRICE  LINENETTOTAL  LINENET  BRANCHNR           BRANCH  \\\n",
            "611101     1.0   3.25          3.25     3.22      73.0  Tekirdağ Subesi   \n",
            "611102     1.0   0.90          0.90     0.89      40.0  İstanbul Subesi   \n",
            "611103     1.0   0.90          0.90     0.89      66.0   Sakarya Subesi   \n",
            "611104     1.0   0.90          0.90     0.89       7.0    Ankara Subesi   \n",
            "611105     1.0   0.90          0.90     0.89      59.0     Muğla Subesi   \n",
            "611106     1.0   0.90          0.90     0.88      40.0  İstanbul Subesi   \n",
            "611107     1.0   1.90          1.90     1.76      74.0     Tokat Subesi   \n",
            "\n",
            "              SALESMAN      CITY      REGION  LATITUDE  LONGITUDE CLIENTCODE  \\\n",
            "611101  Aleyna ÇUKUREL  Tekirdağ     Marmara   40.9833    27.5167      16670   \n",
            "611102    İsmet SARTIK  İstanbul     Marmara   41.0053    28.9770     523722   \n",
            "611103  Beren BULGURCU   Sakarya     Marmara   40.6940    30.4358     374191   \n",
            "611104       Eda SINAV    Ankara  İç Anadolu   39.9208    32.8541     656248   \n",
            "611105  Nisa nur SAĞIM     Muğla         Ege   37.2153    28.3636      78643   \n",
            "611106     Arife DORAP  İstanbul     Marmara   41.0053    28.9770     926041   \n",
            "611107  Lütfiye DÖŞEME     Tokat   Karadeniz   40.3167    36.5500     241748   \n",
            "\n",
            "              CLIENTNAME BRANDCODE BRAND CATEGORY_NAME1 CATEGORY_NAME2  \\\n",
            "611101       Berat ÖGMEN       145   UNO           GIDA  UNLU MAMÜLLER   \n",
            "611102       Özcan PAPİR       NaN   NaN           GIDA  UNLU MAMÜLLER   \n",
            "611103   Mahmut BAYATGİL       NaN   NaN           GIDA  UNLU MAMÜLLER   \n",
            "611104       Gamze BOTUÇ       NaN   NaN           GIDA  UNLU MAMÜLLER   \n",
            "611105  Cengiz BEREKETÇİ       NaN   NaN           GIDA  UNLU MAMÜLLER   \n",
            "611106  Elifnur EGİNKAYA       NaN   NaN           GIDA  UNLU MAMÜLLER   \n",
            "611107    Hacer CANDEMİR        44   ETİ           GIDA  BÜSKİVİ ÇEREZ   \n",
            "\n",
            "       CATEGORY_NAME3           STARTDATE             ENDDATE GENDER  \n",
            "611101          EKMEK 2017-03-19 18:54:51 2017-03-19 18:54:58      E  \n",
            "611102          EKMEK 2017-03-19 16:09:39 2017-03-19 16:11:10      E  \n",
            "611103          EKMEK 2017-03-19 09:39:54 2017-03-19 09:40:50      E  \n",
            "611104          EKMEK 2017-03-19 20:30:58 2017-03-19 20:31:17      K  \n",
            "611105          EKMEK 2017-03-16 17:51:04 2017-03-16 17:51:18      E  \n",
            "611106          EKMEK 2017-03-19 17:00:12 2017-03-19 17:01:20      K  \n",
            "611107        BÜSKİVİ 2017-03-19 16:00:15 2017-03-19 16:00:37      K  \n"
          ]
        }
      ]
    },
    {
      "cell_type": "markdown",
      "source": [
        "15- Veri setinde her satır için AMOUNT PRICE LINENETTOTAL sutunlarına ait bilgileri yazdıralım"
      ],
      "metadata": {
        "id": "j0c7gbAbuHYI"
      }
    },
    {
      "cell_type": "code",
      "source": [
        "print(\"15- Belirtilen Sütunların Tüm Satırları:\")\n",
        "print(yeni_veri[['AMOUNT', 'PRICE', 'LINENETTOTAL']])"
      ],
      "metadata": {
        "id": "nSEuqwVyuKyV",
        "colab": {
          "base_uri": "https://localhost:8080/"
        },
        "outputId": "f970b788-cb98-4ae0-f6f8-5f3fa4c7627f"
      },
      "execution_count": 19,
      "outputs": [
        {
          "output_type": "stream",
          "name": "stdout",
          "text": [
            "15- Belirtilen Sütunların Tüm Satırları:\n",
            "        AMOUNT  PRICE  LINENETTOTAL\n",
            "0          1.0   2.00          2.00\n",
            "1          5.0   2.65         13.25\n",
            "2          1.0   0.40          0.40\n",
            "3          1.0   0.40          0.40\n",
            "4          1.0   0.40          0.40\n",
            "...        ...    ...           ...\n",
            "611103     1.0   0.90          0.90\n",
            "611104     1.0   0.90          0.90\n",
            "611105     1.0   0.90          0.90\n",
            "611106     1.0   0.90          0.90\n",
            "611107     1.0   1.90          1.90\n",
            "\n",
            "[611108 rows x 3 columns]\n"
          ]
        }
      ]
    },
    {
      "cell_type": "markdown",
      "source": [
        "16- Veri setinde LINENETTOTAL sütunda 15 den büyük olan satırları yazdıralım"
      ],
      "metadata": {
        "id": "6K_3-sEuuLP2"
      }
    },
    {
      "cell_type": "code",
      "source": [
        "print(\"16- LINENETTOTAL > 15 Olan Satırlar:\")\n",
        "filtre_linetotal = yeni_veri[yeni_veri['LINENETTOTAL'] > 15]\n",
        "print(filtre_linetotal)\n",
        "print(\"-\" * 50)"
      ],
      "metadata": {
        "id": "iC2K35sDuPH2",
        "colab": {
          "base_uri": "https://localhost:8080/"
        },
        "outputId": "54c9bf71-499f-4816-84bd-4ca53c23d677"
      },
      "execution_count": 20,
      "outputs": [
        {
          "output_type": "stream",
          "name": "stdout",
          "text": [
            "16- LINENETTOTAL > 15 Olan Satırlar:\n",
            "              ID  ITEMCODE                                   ITEMNAME  \\\n",
            "62        9745.0   10429.0                YUDUM AYCICEK YAGI 5 LT TNK   \n",
            "64        3322.0   19108.0             F NEFFIS AYCICEK YAGI 5 LT PET   \n",
            "95        5317.0    6217.0                   LD LODOS DENİZCİSİ SLİMS   \n",
            "239       7783.0    5571.0   WELLA KOLESTON KOPUK BOYA 5/0 ACIK KAHVE   \n",
            "250       7611.0    3187.0        F NEFFIS TAZE KASAR PEYNIRI 1000 GR   \n",
            "...          ...       ...                                        ...   \n",
            "610879  597076.0   10663.0  FAIRY H 1 ARADA BUL.MAKINESI 70'LI. LIMON   \n",
            "611060  596973.0   21588.0                                 DANA GULAS   \n",
            "611061  596365.0   21591.0                              DANA ANTRIKOT   \n",
            "611065  597287.0     968.0                   ICIM DOGAL YOGURT 2250GR   \n",
            "611068  596374.0   21584.0                          DANA KIYMALIK KG.   \n",
            "\n",
            "        FICHENO      DATE_  AMOUNT  PRICE  LINENETTOTAL  LINENET  BRANCHNR  \\\n",
            "62        17902 2017-01-06   1.000  20.49         20.49    18.97      12.0   \n",
            "64        16540 2017-01-05   1.000  17.90         17.90    16.57      39.0   \n",
            "95        16903 2017-01-05  10.000   5.00         50.00    50.00      70.0   \n",
            "239       17473 2017-01-06   1.000  15.75         15.75    13.35      56.0   \n",
            "250       17450 2017-01-06   1.000  15.75         15.75    14.58      67.0   \n",
            "...         ...        ...     ...    ...           ...      ...       ...   \n",
            "610879   154695 2017-03-30   1.000  27.50         27.50    23.31      52.0   \n",
            "611060   154689 2017-03-30   0.996  23.90         23.80    22.04      11.0   \n",
            "611061   154529 2017-03-30   0.660  27.90         18.41    17.05       7.0   \n",
            "611065   154731 2017-03-30   6.000   7.25         43.50    40.28      41.0   \n",
            "611068   154531 2017-03-30   1.042  19.90         20.74    19.21      42.0   \n",
            "\n",
            "                      BRANCH          SALESMAN           CITY      REGION  \\\n",
            "62          Balıkesir Subesi     Sami KASIMOVA      Balıkesir         Ege   \n",
            "64            Isparta Subesi   Elif nur GÜNLER        Isparta     Akdeniz   \n",
            "95              Sivas Subesi   Hümeyra GEÇİCİ)          Sivas  İç Anadolu   \n",
            "239            Manisa Subesi        Veli ÇAHAN         Manisa         Ege   \n",
            "250            Samsun Subesi      Necdet VARAL         Samsun   Karadeniz   \n",
            "...                      ...               ...            ...         ...   \n",
            "610879        Kocaeli Subesi  Halil KIRMIZIGÜN        Kocaeli     Marmara   \n",
            "611060          Aydın Subesi      Selçuk TEZEL          Aydın         Ege   \n",
            "611061         Ankara Subesi     Meliha AKTEKE         Ankara  İç Anadolu   \n",
            "611065          İzmir Subesi      Gülten IŞLAK          İzmir         Ege   \n",
            "611068  Kahramanmaraş Subesi    Duygu TEKİNSİZ  Kahramanmaraş     Akdeniz   \n",
            "\n",
            "        LATITUDE  LONGITUDE CLIENTCODE        CLIENTNAME BRANDCODE  \\\n",
            "62       39.6484    27.8826     521495      Bilal PORSUK       152   \n",
            "64       37.7648    30.5566     791614      Tayfun BATAK        49   \n",
            "95       39.7477    37.0179    1021217     Kezban GÖŞELİ       163   \n",
            "239      38.6191    27.4289     285961  Görkem ZIESCHANG       307   \n",
            "250      41.2928    36.3313     241750     Hazal ÖZBAKIŞ        49   \n",
            "...          ...        ...        ...               ...       ...   \n",
            "610879   40.8533    29.8815     712152      Hikmet YEREN       298   \n",
            "611060   37.8560    27.8416      27039   Mevlüt AYDINLIK       235   \n",
            "611061   39.9208    32.8541     350244   Reyhan ÇELİKSOY       235   \n",
            "611065   38.4189    27.1287     946400     Dursun GEYLAN        67   \n",
            "611068   37.5858    36.9371    1098716   Deniz GÖKMENLER       235   \n",
            "\n",
            "             BRAND     CATEGORY_NAME1  CATEGORY_NAME2 CATEGORY_NAME3  \\\n",
            "62           YUDUM               GIDA     SIVI YAĞLAR        AYÇİÇEK   \n",
            "64        F NEFFİS               GIDA     SIVI YAĞLAR        AYÇİÇEK   \n",
            "95             JTİ             SİGARA             NaN            NaN   \n",
            "239          WELLA           KOZMETİK       SAÇ BAKIM   SAÇ BOYALARI   \n",
            "250       F NEFFİS    SÜT KAHVALTILIK          PEYNİR  KAŞAR PEYNİRİ   \n",
            "...            ...                ...             ...            ...   \n",
            "610879       FAİRY  DETERJAN TEMİZLİK  BULAŞIK YIKAMA         MAKİNE   \n",
            "611060       KASAP           ET TAVUK      KIRMIZI ET           DANA   \n",
            "611061       KASAP           ET TAVUK      KIRMIZI ET           DANA   \n",
            "611065  İÇİM SEHER    SÜT KAHVALTILIK          YOĞURT      YOĞURTLAR   \n",
            "611068       KASAP           ET TAVUK      KIRMIZI ET           DANA   \n",
            "\n",
            "                 STARTDATE             ENDDATE GENDER  \n",
            "62     2017-01-07 14:28:00 2017-01-07 14:29:39      E  \n",
            "64     2017-01-06 20:08:26 2017-01-06 20:08:39      E  \n",
            "95     2017-01-06 13:44:22 2017-01-06 13:44:45      K  \n",
            "239    2017-01-07 14:52:34 2017-01-07 14:53:16      E  \n",
            "250    2017-01-07 20:00:19 2017-01-07 20:04:26      K  \n",
            "...                    ...                 ...    ...  \n",
            "610879 2017-03-31 12:24:13 2017-03-31 12:24:54      E  \n",
            "611060 2017-03-31 10:18:03 2017-03-31 10:18:39      E  \n",
            "611061 2017-03-31 18:27:07 2017-03-31 18:27:56      K  \n",
            "611065 2017-03-31 15:18:26 2017-03-31 15:28:25      E  \n",
            "611068 2017-03-31 18:36:26 2017-03-31 18:36:54      E  \n",
            "\n",
            "[17698 rows x 26 columns]\n",
            "--------------------------------------------------\n"
          ]
        }
      ]
    },
    {
      "cell_type": "markdown",
      "source": [
        "17- Veri setinde BRANCH ı Balıkesir Subesi olan satırları bulalım"
      ],
      "metadata": {
        "id": "UiDCwxSYuQrw"
      }
    },
    {
      "cell_type": "code",
      "source": [
        "print(\"17- BRANCH'ı 'Balıkesir Subesi' Olan Satırlar:\")\n",
        "filtre_sube = yeni_veri[yeni_veri['BRANCH'] == 'Balıkesir Subesi']\n",
        "print(filtre_sube)"
      ],
      "metadata": {
        "id": "w2CGahAyuToo",
        "colab": {
          "base_uri": "https://localhost:8080/"
        },
        "outputId": "3dcc04be-d862-46ea-efe9-12fefd524002"
      },
      "execution_count": 21,
      "outputs": [
        {
          "output_type": "stream",
          "name": "stdout",
          "text": [
            "17- BRANCH'ı 'Balıkesir Subesi' Olan Satırlar:\n",
            "              ID  ITEMCODE                                ITEMNAME  FICHENO  \\\n",
            "15        9625.0    5780.0                          SALKIM DOMATES    17865   \n",
            "16        9748.0    5715.0                                 PATATES    17902   \n",
            "62        9745.0   10429.0             YUDUM AYCICEK YAGI 5 LT TNK    17902   \n",
            "124       9907.0    5710.0                           KIRMIZI BIBER    17945   \n",
            "165       3534.0   23477.0  NOGAY ÖZEL ÜRÜN YAGLI SELE ZEYTINI LUX    16607   \n",
            "...          ...       ...                                     ...      ...   \n",
            "610941  604581.0     132.0              GOZDE KOKTELY SOSIS 500 GR   156739   \n",
            "610942  604582.0     132.0              GOZDE KOKTELY SOSIS 500 GR   156739   \n",
            "611049  604585.0    5694.0                                 DOMATES   156739   \n",
            "611085  511252.0     195.0            ULKER PIKNIK KAKAOLU 3*70 GR   134582   \n",
            "611093  511278.0   18219.0                SULTAN KEP.BUGDAY EKMEGI   134590   \n",
            "\n",
            "            DATE_  AMOUNT  PRICE  LINENETTOTAL  LINENET  BRANCHNR  \\\n",
            "15     2017-01-06   0.945   5.20          4.91     4.55      12.0   \n",
            "16     2017-01-06   2.790   2.45          6.84     6.33      12.0   \n",
            "62     2017-01-06   1.000  20.49         20.49    18.97      12.0   \n",
            "124    2017-01-06   0.750   4.95          3.71     3.44      12.0   \n",
            "165    2017-01-05   0.540   9.95          5.37     4.98      12.0   \n",
            "...           ...     ...    ...           ...      ...       ...   \n",
            "610941 2017-03-31   1.000   5.50          5.50     5.09      12.0   \n",
            "610942 2017-03-31   1.000   5.50          5.50     5.09      12.0   \n",
            "611049 2017-03-31   1.040   2.65          2.76     2.56      12.0   \n",
            "611085 2017-03-18   1.000   1.50          1.50     1.39      12.0   \n",
            "611093 2017-03-18   1.000   1.00          1.00     0.99      12.0   \n",
            "\n",
            "                  BRANCH       SALESMAN       CITY REGION  LATITUDE  \\\n",
            "15      Balıkesir Subesi  Sami KASIMOVA  Balıkesir    Ege   39.6484   \n",
            "16      Balıkesir Subesi  Sami KASIMOVA  Balıkesir    Ege   39.6484   \n",
            "62      Balıkesir Subesi  Sami KASIMOVA  Balıkesir    Ege   39.6484   \n",
            "124     Balıkesir Subesi  Neriman BEYAZ  Balıkesir    Ege   39.6484   \n",
            "165     Balıkesir Subesi  Sami KASIMOVA  Balıkesir    Ege   39.6484   \n",
            "...                  ...            ...        ...    ...       ...   \n",
            "610941  Balıkesir Subesi  Neriman BEYAZ  Balıkesir    Ege   39.6484   \n",
            "610942  Balıkesir Subesi  Neriman BEYAZ  Balıkesir    Ege   39.6484   \n",
            "611049  Balıkesir Subesi  Neriman BEYAZ  Balıkesir    Ege   39.6484   \n",
            "611085  Balıkesir Subesi   Sıraç MEHMET  Balıkesir    Ege   39.6484   \n",
            "611093  Balıkesir Subesi  Sami KASIMOVA  Balıkesir    Ege   39.6484   \n",
            "\n",
            "        LONGITUDE CLIENTCODE       CLIENTNAME BRANDCODE   BRAND  \\\n",
            "15        27.8826      74884    Miray KOÇOĞLU       A25     HAL   \n",
            "16        27.8826     521495     Bilal PORSUK       A25     HAL   \n",
            "62        27.8826     521495     Bilal PORSUK       152   YUDUM   \n",
            "124       27.8826        NaN              NaN       A25     HAL   \n",
            "165       27.8826     654286       Pınar ECİR        99   NOGAY   \n",
            "...           ...        ...              ...       ...     ...   \n",
            "610941    27.8826       1589     Sevda MEVSİM       NaN     NaN   \n",
            "610942    27.8826       1589     Sevda MEVSİM       NaN     NaN   \n",
            "611049    27.8826       1589     Sevda MEVSİM       A25     HAL   \n",
            "611085    27.8826     872827   Zekiye ERDAMAR       146   ÜLKER   \n",
            "611093    27.8826     628800  Hacer YOLCUOĞLU       134  SULTAN   \n",
            "\n",
            "         CATEGORY_NAME1 CATEGORY_NAME2 CATEGORY_NAME3           STARTDATE  \\\n",
            "15          MEYVE SEBZE          SEBZE            NaN 2017-01-07 11:12:54   \n",
            "16          MEYVE SEBZE          SEBZE            NaN 2017-01-07 14:28:00   \n",
            "62                 GIDA    SIVI YAĞLAR        AYÇİÇEK 2017-01-07 14:28:00   \n",
            "124         MEYVE SEBZE          SEBZE            NaN 2017-01-07 17:24:07   \n",
            "165     SÜT KAHVALTILIK         ZEYTİN            NaN 2017-01-06 09:40:58   \n",
            "...                 ...            ...            ...                 ...   \n",
            "610941         ET TAVUK   ET ŞARKÜTERİ          SOSİS 2017-04-01 16:24:46   \n",
            "610942         ET TAVUK   ET ŞARKÜTERİ          SOSİS 2017-04-01 16:24:46   \n",
            "611049      MEYVE SEBZE          SEBZE            NaN 2017-04-01 16:24:46   \n",
            "611085             GIDA  BÜSKİVİ ÇEREZ        BÜSKİVİ 2017-03-19 17:51:42   \n",
            "611093             GIDA  UNLU MAMÜLLER          EKMEK 2017-03-19 18:09:02   \n",
            "\n",
            "                   ENDDATE GENDER  \n",
            "15     2017-01-07 11:13:35      K  \n",
            "16     2017-01-07 14:29:39      E  \n",
            "62     2017-01-07 14:29:39      E  \n",
            "124    2017-01-07 17:24:25    NaN  \n",
            "165    2017-01-06 09:42:01      K  \n",
            "...                    ...    ...  \n",
            "610941 2017-04-01 16:25:31      K  \n",
            "610942 2017-04-01 16:25:31      K  \n",
            "611049 2017-04-01 16:25:31      K  \n",
            "611085 2017-03-19 17:52:13      K  \n",
            "611093 2017-03-19 18:09:23      K  \n",
            "\n",
            "[9428 rows x 26 columns]\n"
          ]
        }
      ]
    }
  ]
}