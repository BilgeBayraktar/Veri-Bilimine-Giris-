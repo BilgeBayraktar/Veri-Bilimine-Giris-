{
  "nbformat": 4,
  "nbformat_minor": 0,
  "metadata": {
    "colab": {
      "provenance": [],
      "authorship_tag": "ABX9TyPp1hfqGbK+vB8Ka6f2jr1c",
      "include_colab_link": true
    },
    "kernelspec": {
      "name": "python3",
      "display_name": "Python 3"
    },
    "language_info": {
      "name": "python"
    }
  },
  "cells": [
    {
      "cell_type": "markdown",
      "metadata": {
        "id": "view-in-github",
        "colab_type": "text"
      },
      "source": [
        "<a href=\"https://colab.research.google.com/github/BilgeBayraktar/Veri-Bilimine-Giris-/blob/main/2_Hafta_Sorular1.ipynb\" target=\"_parent\"><img src=\"https://colab.research.google.com/assets/colab-badge.svg\" alt=\"Open In Colab\"/></a>"
      ]
    },
    {
      "cell_type": "code",
      "source": [
        "#1. İnsan Sınıfını Oluşturun\n",
        "class Insan:\n",
        "    def __init__(self, isim, yas, cinsiyet):\n",
        "        \"\"\"\n",
        "        Insan sınıfının yapıcı (constructor) metodu.\n",
        "        Özellikler: isim (public), _yas (private) ve cinsiyet (public).\n",
        "        \"\"\"\n",
        "        self.isim = isim\n",
        "        self.__yas = yas\n",
        "        self.cinsiyet = cinsiyet\n",
        "\n",
        "    def get_yas(self):\n",
        "        return self.__yas\n",
        "\n",
        "\n",
        "    def set_yas(self, yeni_yas):\n",
        "        if yeni_yas >= 0:\n",
        "            self.__yas = yeni_yas\n",
        "        else:\n",
        "            print(\"Yaş negatif olamaz!\")\n",
        "\n",
        "    def bilgi_ver(self):\n",
        "        \"\"\"İnsanın ismini, yaşını ve cinsiyetini ekrana yazdırır.\"\"\"\n",
        "        print(f\"İsim: {self.isim}, Yaş: {self.get_yas()}, Cinsiyet: {self.cinsiyet}\")\n",
        "\n",
        "\n",
        "    def konus(self):\n",
        "        return f\"{self.isim} konuşuyor.\""
      ],
      "metadata": {
        "id": "-WvR9kq9CFx5"
      },
      "execution_count": 3,
      "outputs": []
    },
    {
      "cell_type": "code",
      "source": [
        "# 2. Hoca Sınıfını Oluşturun (Insan'dan Miras Alan)\n",
        "class Hoca(Insan):\n",
        "    def __init__(self, isim, yas, cinsiyet, brans):\n",
        "        super().__init__(isim, yas, cinsiyet)\n",
        "        self.brans = brans\n",
        "\n",
        "    def konus(self):\n",
        "\n",
        "        return f\"{self.isim} adlı hoca {self.brans} dersini anlatıyor.\""
      ],
      "metadata": {
        "id": "CrnWNE88C8tE"
      },
      "execution_count": 4,
      "outputs": []
    },
    {
      "cell_type": "code",
      "source": [
        "# 3.Öğrenci Sınıfını Oluşturun (Insan'dan Miras Alan)\n",
        "class Ogrenci(Insan):\n",
        "    def __init__(self, isim, yas, cinsiyet, sinif, okul_no):\n",
        "        \"\"\"Öğrenci sınıfının yapıcı metodu.\"\"\"\n",
        "        super().__init__(isim, yas, cinsiyet)\n",
        "        self.sinif = sinif\n",
        "        self.__okul_no = okul_no\n",
        "\n",
        "    def get_okul_no(self):\n",
        "        return self.__okul_no\n",
        "\n",
        "    def set_okul_no(self, yeni_okul_no):\n",
        "        if yeni_okul_no > 0:\n",
        "            self.__okul_no = yeni_okul_no\n",
        "        else:\n",
        "            print(\"Okul numarası pozitif olmalıdır!\")\n",
        "\n",
        "    def katil(self):\n",
        "        \"\"\"Öğrencinin derse katıldığını belirten cümleyi döndürür.\"\"\"\n",
        "        return f\"{self.isim} adlı öğrenci {self.sinif} sınıfında derse katılıyor.\"\n",
        "\n",
        "    def konus(self):\n",
        "        \"\"\"Öğrencinin konuştuğunu belirten cümleyi döndürür.\"\"\"\n",
        "        return f\"{self.isim}, 'Öğretmenim bir sorum var!' diyerek söze başladı.\""
      ],
      "metadata": {
        "id": "Pyj3MPlQDJ-3"
      },
      "execution_count": 7,
      "outputs": []
    },
    {
      "cell_type": "code",
      "source": [
        "# 4. Ana Programı Yazın\n",
        "\n",
        "print(\"--- 4. Nesne Oluşturma ve Metot Çağırma ---\")\n",
        "\n",
        "insan1 = Insan(\"Ali\", 25, \"Erkek\")\n",
        "\n",
        "hoca1 = Hoca(\"Ayşe\", 45, \"Kadın\", \"Fizik\")\n",
        "\n",
        "ogrenci1 = Ogrenci(\"Mehmet\", 17, \"Erkek\", \"12-A\", 101)\n",
        "\n",
        "\n",
        "print(\"\\n--- Bilgileri Yazdırma ---\")\n",
        "insan1.bilgi_ver()\n",
        "hoca1.bilgi_ver()\n",
        "ogrenci1.bilgi_ver()\n",
        "\n",
        "print(\"\\n--- Özel Metotları Çağırma ---\")\n",
        "print(insan1.konus())\n",
        "print(hoca1.konus())\n",
        "print(ogrenci1.katil())\n",
        "print(ogrenci1.konus())"
      ],
      "metadata": {
        "colab": {
          "base_uri": "https://localhost:8080/"
        },
        "id": "iTOj2MUkDPWe",
        "outputId": "67fb1df4-99ef-4aba-dc6c-bb29d6273476"
      },
      "execution_count": 6,
      "outputs": [
        {
          "output_type": "stream",
          "name": "stdout",
          "text": [
            "--- 4. Nesne Oluşturma ve Metot Çağırma ---\n",
            "\n",
            "--- Bilgileri Yazdırma ---\n",
            "İsim: Ali, Yaş: 25, Cinsiyet: Erkek\n",
            "İsim: Ayşe, Yaş: 45, Cinsiyet: Kadın\n",
            "İsim: Mehmet, Yaş: 17, Cinsiyet: Erkek\n",
            "\n",
            "--- Özel Metotları Çağırma ---\n",
            "Ali konuşuyor.\n",
            "Ayşe adlı hoca Fizik dersini anlatıyor.\n",
            "Mehmet adlı öğrenci 12-A sınıfında derse katılıyor.\n",
            "Mehmet, 'Öğretmenim bir sorum var!' diyerek söze başladı.\n"
          ]
        }
      ]
    },
    {
      "cell_type": "code",
      "source": [
        "#5. Kapsülleme (Encapsulation) Kullanımı\n",
        "\n",
        "print(\"\\n--- 5. Kapsülleme (Getter/Setter) Kullanımı ---\")\n",
        "\n",
        "print(f\"Hoca'nın Yaşı (Getter ile): {hoca1.get_yas()}\")\n",
        "print(f\"Öğrencinin Okul No (Getter ile): {ogrenci1.get_okul_no()}\")\n",
        "\n",
        "\n",
        "hoca1.set_yas(46)\n",
        "print(f\"Hoca'nın Yeni Yaşı (Setter ile güncellendi): {hoca1.get_yas()}\")\n",
        "\n",
        "\n",
        "ogrenci1.set_okul_no(105)\n",
        "print(f\"Öğrencinin Yeni Okul No (Setter ile güncellendi): {ogrenci1.get_okul_no()}\")\n",
        "\n",
        "ogrenci1.set_okul_no(-5)\n",
        "hoca1.set_yas(-10)\n",
        "\n",
        "\n",
        "print(\"\\n--- Son Bilgiler ---\")\n",
        "hoca1.bilgi_ver()\n",
        "ogrenci1.bilgi_ver()"
      ],
      "metadata": {
        "colab": {
          "base_uri": "https://localhost:8080/"
        },
        "id": "JbMk0x81Dh33",
        "outputId": "8c467d35-8b41-4892-9541-64f40a1d71d2"
      },
      "execution_count": 5,
      "outputs": [
        {
          "output_type": "stream",
          "name": "stdout",
          "text": [
            "\n",
            "--- 5. Kapsülleme (Getter/Setter) Kullanımı ---\n",
            "Hoca'nın Yaşı (Getter ile): 46\n",
            "Öğrencinin Okul No (Getter ile): 105\n",
            "Hoca'nın Yeni Yaşı (Setter ile güncellendi): 46\n",
            "Öğrencinin Yeni Okul No (Setter ile güncellendi): 105\n",
            "Okul numarası pozitif olmalıdır!\n",
            "Yaş negatif olamaz!\n",
            "\n",
            "--- Son Bilgiler ---\n",
            "İsim: Ayşe, Yaş: 46, Cinsiyet: Kadın\n",
            "İsim: Mehmet, Yaş: 15, Cinsiyet: Erkek\n"
          ]
        }
      ]
    },
    {
      "cell_type": "code",
      "source": [
        "#6.Çok Biçimlilik (Polymorphism) Uygulayın\n",
        "print(\"\\n--- 6. Çok Biçimlilik (Polymorphism) Uygulaması ---\")\n",
        "\n",
        "print(f\"Hoca: {hoca1.konus()}\")\n",
        "print(f\"Öğrenci: {ogrenci1.konus()}\")"
      ],
      "metadata": {
        "colab": {
          "base_uri": "https://localhost:8080/"
        },
        "id": "xMCQOzvjEBOz",
        "outputId": "0c14ae5b-9adb-4f67-8c0f-9a075ca19ff2"
      },
      "execution_count": 8,
      "outputs": [
        {
          "output_type": "stream",
          "name": "stdout",
          "text": [
            "\n",
            "--- 6. Çok Biçimlilik (Polymorphism) Uygulaması ---\n",
            "Hoca: Ayşe adlı hoca Fizik dersini anlatıyor.\n",
            "Öğrenci: Mehmet, 'Öğretmenim bir sorum var!' diyerek söze başladı.\n"
          ]
        }
      ]
    }
  ]
}