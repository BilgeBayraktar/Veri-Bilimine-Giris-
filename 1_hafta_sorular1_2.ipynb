{
  "nbformat": 4,
  "nbformat_minor": 0,
  "metadata": {
    "colab": {
      "provenance": [],
      "authorship_tag": "ABX9TyM/LpK68xw3R9SlHPssHplz",
      "include_colab_link": true
    },
    "kernelspec": {
      "name": "python3",
      "display_name": "Python 3"
    },
    "language_info": {
      "name": "python"
    }
  },
  "cells": [
    {
      "cell_type": "markdown",
      "metadata": {
        "id": "view-in-github",
        "colab_type": "text"
      },
      "source": [
        "<a href=\"https://colab.research.google.com/github/BilgeBayraktar/Veri-Bilimine-Giris-/blob/main/1_hafta_sorular1_2.ipynb\" target=\"_parent\"><img src=\"https://colab.research.google.com/assets/colab-badge.svg\" alt=\"Open In Colab\"/></a>"
      ]
    },
    {
      "cell_type": "code",
      "execution_count": null,
      "metadata": {
        "colab": {
          "base_uri": "https://localhost:8080/"
        },
        "id": "D4T9ZGhBrmFK",
        "outputId": "b1d7a2a5-c227-472b-c364-c5477cbaa892"
      },
      "outputs": [
        {
          "output_type": "stream",
          "name": "stdout",
          "text": [
            "Marka: Toyota, Model: Corolla\n"
          ]
        }
      ],
      "source": [
        "class Araba:\n",
        "    def __init__(self, marka, model):\n",
        "        self.marka = marka\n",
        "        self.model = model\n",
        "\n",
        "    def bilgileri_yazdir(self):\n",
        "        print(f\"Marka: {self.marka}, Model: {self.model}\")\n",
        "\n",
        "\n",
        "araba1 = Araba(\"Toyota\", \"Corolla\")\n",
        "araba1.bilgileri_yazdir()\n"
      ]
    },
    {
      "cell_type": "code",
      "source": [
        "class Dikdortgen:\n",
        "    def __init__(self, genislik, yukseklik):\n",
        "        self.genislik = genislik\n",
        "        self.yukseklik = yukseklik\n",
        "\n",
        "    def alan_hesapla(self):\n",
        "        return self.genislik * self.yukseklik\n",
        "\n",
        "dikdortgen1 = Dikdortgen(5, 10)\n",
        "alan = dikdortgen1.alan_hesapla()\n",
        "print(f\"Dikdörtgenin alanı: {alan}\")\n"
      ],
      "metadata": {
        "colab": {
          "base_uri": "https://localhost:8080/"
        },
        "id": "QpNTSMVdr3BH",
        "outputId": "97a73ee8-8c48-48b8-85b7-640315a29863"
      },
      "execution_count": null,
      "outputs": [
        {
          "output_type": "stream",
          "name": "stdout",
          "text": [
            "Dikdörtgenin alanı: 50\n"
          ]
        }
      ]
    },
    {
      "cell_type": "code",
      "source": [
        "class Kare:\n",
        "    def __init__(self, kenar):\n",
        "        self.kenar = kenar\n",
        "\n",
        "    def kareyi_yazdir(self):\n",
        "        for i in range(self.kenar):\n",
        "            print(\"* \" * self.kenar)\n",
        "\n",
        "kare1 = Kare(5)\n",
        "kare1.kareyi_yazdir()\n"
      ],
      "metadata": {
        "colab": {
          "base_uri": "https://localhost:8080/"
        },
        "id": "zEG1rl_0r6kT",
        "outputId": "0c668bbb-0187-4913-8f6a-0ca4faa92d06"
      },
      "execution_count": null,
      "outputs": [
        {
          "output_type": "stream",
          "name": "stdout",
          "text": [
            "* * * * * \n",
            "* * * * * \n",
            "* * * * * \n",
            "* * * * * \n",
            "* * * * * \n"
          ]
        }
      ]
    },
    {
      "cell_type": "code",
      "source": [
        "class HesapMakinesi:\n",
        "    def topla(self, sayi1, sayi2, sayi3=None):\n",
        "        if sayi3 is not None:\n",
        "            return sayi1 + sayi2 + sayi3\n",
        "        else:\n",
        "            return sayi1 + sayi2\n",
        "\n",
        "\n",
        "hesap_makinesi = HesapMakinesi()\n",
        "\n",
        "\n",
        "sonuc1 = hesap_makinesi.topla(15, 25)\n",
        "print(\"İki sayının toplamı:\", sonuc1)\n",
        "\n",
        "\n",
        "sonuc2 = hesap_makinesi.topla(15, 25, 35)\n",
        "print(\"Üç sayının toplamı:\", sonuc2)\n"
      ],
      "metadata": {
        "colab": {
          "base_uri": "https://localhost:8080/"
        },
        "id": "52oD6U-FsFLJ",
        "outputId": "a0c29d6c-4d51-485d-b79b-3bc961c2d367"
      },
      "execution_count": null,
      "outputs": [
        {
          "output_type": "stream",
          "name": "stdout",
          "text": [
            "İki sayının toplamı: 40\n",
            "Üç sayının toplamı: 75\n"
          ]
        }
      ]
    },
    {
      "cell_type": "code",
      "source": [
        "class Merhaba:\n",
        "    def merhaba_yazdir(self):\n",
        "        print(\"Merhaba Dünya\")\n",
        "\n",
        "merhaba = Merhaba()\n",
        "merhaba.merhaba_yazdir()\n",
        "\n"
      ],
      "metadata": {
        "colab": {
          "base_uri": "https://localhost:8080/"
        },
        "id": "_Cy5iikWsNCT",
        "outputId": "db255cd3-5e20-40ca-fdda-6518cdb2e123"
      },
      "execution_count": null,
      "outputs": [
        {
          "output_type": "stream",
          "name": "stdout",
          "text": [
            "Merhaba Dünya\n"
          ]
        }
      ]
    },
    {
      "cell_type": "markdown",
      "source": [
        "1.hafta Sorular-2\n"
      ],
      "metadata": {
        "id": "flWnXDMst1U2"
      }
    },
    {
      "cell_type": "code",
      "source": [
        "class İnsan:\n",
        "    def __init__(self, ad, yaş):\n",
        "        self.ad = ad\n",
        "        self.yaş = yaş\n",
        "\n",
        "    def konuş(self):\n",
        "        return f\"Ben {self.ad}. Genel bir konuşma yapıyorum.\"\n",
        "\n",
        "class Hoca(İnsan):\n",
        "\n",
        "    def __init__(self, ad, yaş, sicil_no):\n",
        "\n",
        "        super().__init__(ad, yaş)\n",
        "        self.sicil_no = sicil_no\n",
        "\n",
        "\n",
        "    def konuş(self):\n",
        "        return f\"Ben Hoca {self.ad}. Şu anda bir ders konusu hakkında konuşuyorum.\"\n",
        "\n",
        "\n",
        "    def ders_ver(self):\n",
        "        return f\"Hoca {self.ad} ({self.sicil_no}) şu anda ders veriyor.\"\n",
        "\n",
        "\n",
        "class Sekreter(İnsan):\n",
        "\n",
        "    def konuş(self):\n",
        "        return f\"Ben Sekreter {self.ad}. Günlük ofis işleri hakkında konuşuyorum.\"\n",
        "\n",
        "    def randevu_ayarla(self, kişi):\n",
        "        return f\"Sekreter {self.ad}, {kişi} için randevu ayarlıyor.\"\n",
        "\n",
        "\n",
        "class Öğrenci(İnsan):\n",
        "\n",
        "    def __init__(self, ad, yaş, öğrenci_no):\n",
        "        super().__init__(ad, yaş)\n",
        "        self.öğrenci_no = öğrenci_no\n",
        "\n",
        "\n",
        "    def konuş(self):\n",
        "        return f\"Ben Öğrenci {self.ad}. Bugün derste öğrendiklerimden bahsediyorum.\"\n",
        "\n",
        "\n",
        "    def ders_çalış(self):\n",
        "        return f\"Öğrenci {self.ad} ({self.öğrenci_no}) ders çalışıyor.\"\n",
        "\n",
        "\n",
        "print(\"--- İnsan Sınıfı Örneği ---\")\n",
        "insan1 = İnsan(\"Bilge\", 23)\n",
        "print(insan1.konuş())\n",
        "\n",
        "print(\"\\n--- Hoca Sınıfı Örneği ---\")\n",
        "hoca1 = Hoca(\"Sinan Başarslan\", 35, \"BİL-361\")\n",
        "print(hoca1.konuş())\n",
        "print(hoca1.ders_ver())\n",
        "\n",
        "print(\"\\n--- Sekreter Sınıfı Örneği ---\")\n",
        "sekreter1 = Sekreter(\"Ali Arslan\", 40)\n",
        "print(sekreter1.konuş())\n",
        "print(sekreter1.randevu_ayarla(\"Prof. Dr. Başarslan\"))\n",
        "\n",
        "print(\"\\n--- Öğrenci Sınıfı Örneği ---\")\n",
        "öğrenci1 = Öğrenci(\"Ayşe Bilgili\", 20, \"OGR-12345\")\n",
        "print(öğrenci1.konuş())\n",
        "print(öğrenci1.ders_çalış())"
      ],
      "metadata": {
        "colab": {
          "base_uri": "https://localhost:8080/"
        },
        "id": "ENrZ2rLDt6Ig",
        "outputId": "f85d4fa4-4aca-4a0a-b752-05c62f470d4a"
      },
      "execution_count": null,
      "outputs": [
        {
          "output_type": "stream",
          "name": "stdout",
          "text": [
            "--- İnsan Sınıfı Örneği ---\n",
            "Ben Bilge. Genel bir konuşma yapıyorum.\n",
            "\n",
            "--- Hoca Sınıfı Örneği ---\n",
            "Ben Hoca Sinan Başarslan. Şu anda bir ders konusu hakkında konuşuyorum.\n",
            "Hoca Sinan Başarslan (BİL-361) şu anda ders veriyor.\n",
            "\n",
            "--- Sekreter Sınıfı Örneği ---\n",
            "Ben Sekreter Ali Arslan. Günlük ofis işleri hakkında konuşuyorum.\n",
            "Sekreter Ali Arslan, Prof. Dr. Başarslan için randevu ayarlıyor.\n",
            "\n",
            "--- Öğrenci Sınıfı Örneği ---\n",
            "Ben Öğrenci Ayşe Bilgili. Bugün derste öğrendiklerimden bahsediyorum.\n",
            "Öğrenci Ayşe Bilgili (OGR-12345) ders çalışıyor.\n"
          ]
        }
      ]
    }
  ]
}