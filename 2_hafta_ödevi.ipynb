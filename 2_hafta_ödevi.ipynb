{
  "nbformat": 4,
  "nbformat_minor": 0,
  "metadata": {
    "colab": {
      "provenance": [],
      "authorship_tag": "ABX9TyMHbMjNXowTxbo+GhTBii0A",
      "include_colab_link": true
    },
    "kernelspec": {
      "name": "python3",
      "display_name": "Python 3"
    },
    "language_info": {
      "name": "python"
    }
  },
  "cells": [
    {
      "cell_type": "markdown",
      "metadata": {
        "id": "view-in-github",
        "colab_type": "text"
      },
      "source": [
        "<a href=\"https://colab.research.google.com/github/BilgeBayraktar/Veri-Bilimine-Giris-/blob/main/2_hafta_%C3%B6devi.ipynb\" target=\"_parent\"><img src=\"https://colab.research.google.com/assets/colab-badge.svg\" alt=\"Open In Colab\"/></a>"
      ]
    },
    {
      "cell_type": "code",
      "execution_count": null,
      "metadata": {
        "colab": {
          "base_uri": "https://localhost:8080/"
        },
        "id": "nq00TUh_wLTT",
        "outputId": "44f4d685-6cbb-45c6-f12d-3830c11b2669"
      },
      "outputs": [
        {
          "output_type": "stream",
          "name": "stdout",
          "text": [
            "Lütfen bir metin giriniz: bilge\n",
            "Girilen metin: bilge\n"
          ]
        }
      ],
      "source": [
        "#1. Kullanıcıdan Alınan Metni Ekranda Gösterme\n",
        "kullanici_metni = input(\"Lütfen bir metin giriniz: \")\n",
        "print(\"Girilen metin:\", kullanici_metni)"
      ]
    },
    {
      "cell_type": "code",
      "source": [
        "#2. Kullanıcının Girdiği İki Sayıyı Toplama\n",
        "sayi1 = int(input(\"Lütfen birinci sayıyı giriniz: \"))\n",
        "sayi2 = int(input(\"Lütfen ikinci sayıyı giriniz: \"))\n",
        "toplam = sayi1 + sayi2\n",
        "print(f\"Girilen sayıların toplamı: {toplam}\")"
      ],
      "metadata": {
        "colab": {
          "base_uri": "https://localhost:8080/"
        },
        "id": "nG-5y5Ln3btK",
        "outputId": "3e015737-0722-45d9-95d8-717c00a00577"
      },
      "execution_count": null,
      "outputs": [
        {
          "output_type": "stream",
          "name": "stdout",
          "text": [
            "Lütfen birinci sayıyı giriniz: 5\n",
            "Lütfen ikinci sayıyı giriniz: 8\n",
            "Girilen sayıların toplamı: 13\n"
          ]
        }
      ]
    },
    {
      "cell_type": "code",
      "source": [
        "#3. Girilen Sayının Tek veya Çift Sayı Olduğunu Belirleme\n",
        "sayi = int(input(\"Lütfen bir tam sayı giriniz: \"))\n",
        "if sayi % 2 == 0:\n",
        "  print(f\"{sayi} bir ÇİFT sayıdır.\")\n",
        "else:\n",
        "    print(f\"{sayi} bir TEK sayıdır.\")"
      ],
      "metadata": {
        "colab": {
          "base_uri": "https://localhost:8080/"
        },
        "id": "-8m8nFSz3p51",
        "outputId": "69bc14e1-7b6f-4b6c-ce09-738bd400d387"
      },
      "execution_count": null,
      "outputs": [
        {
          "output_type": "stream",
          "name": "stdout",
          "text": [
            "Lütfen bir tam sayı giriniz: 6\n",
            "6 bir ÇİFT sayıdır.\n"
          ]
        }
      ]
    },
    {
      "cell_type": "code",
      "source": [
        "#4. İki Sayı ile İşlem Yapan Basit Hesap Makinesi\n",
        "sayi1 = float(input(\"Lütfen birinci sayıyı giriniz: \"))\n",
        "islem = input(\"Lütfen yapmak istediğiniz işlemi giriniz (+, -, *, /): \")\n",
        "sayi2 = float(input(\"Lütfen ikinci sayıyı giriniz: \"))\n",
        "\n",
        "sonuc = 0\n",
        "\n",
        "if islem == '+':\n",
        "    sonuc = sayi1 + sayi2\n",
        "elif islem == '-':\n",
        "    sonuc = sayi1 - sayi2\n",
        "elif islem == '*':\n",
        "    sonuc = sayi1 * sayi2\n",
        "elif islem == '/':\n",
        "    if sayi2 != 0:\n",
        "        sonuc = sayi1 / sayi2\n",
        "    else:\n",
        "        print(\"Hata: Bir sayı sıfıra bölünemez!\")\n",
        "        exit()\n",
        "else:\n",
        "    print(\"Hata: Geçersiz işlem operatörü girdiniz!\")\n",
        "    exit()\n",
        "\n",
        "print(f\"İşlem sonucu: {sayi1} {islem} {sayi2} = {sonuc}\")\n",
        "\n"
      ],
      "metadata": {
        "colab": {
          "base_uri": "https://localhost:8080/"
        },
        "id": "09epSEdr345y",
        "outputId": "3b4d841d-ab57-4559-d15d-31c3eaab6252"
      },
      "execution_count": null,
      "outputs": [
        {
          "output_type": "stream",
          "name": "stdout",
          "text": [
            "Lütfen birinci sayıyı giriniz: 18\n",
            "Lütfen yapmak istediğiniz işlemi giriniz (+, -, *, /): *\n",
            "Lütfen ikinci sayıyı giriniz: 2\n",
            "İşlem sonucu: 18.0 * 2.0 = 36.0\n"
          ]
        }
      ]
    },
    {
      "cell_type": "code",
      "source": [
        "#5. Hesap Makinesinde Kullanıcı Hatalarını Önleme (Try-Except ile)\n",
        "try:\n",
        "    sayi1 = float(input(\"Lütfen birinci sayıyı giriniz: \"))\n",
        "    islem = input(\"Lütfen yapmak istediğiniz işlemi giriniz (+, -, *, /): \")\n",
        "    sayi2 = float(input(\"Lütfen ikinci sayıyı giriniz: \"))\n",
        "\n",
        "    sonuc = 0\n",
        "\n",
        "    if islem == '+':\n",
        "        sonuc = sayi1 + sayi2\n",
        "    elif islem == '-':\n",
        "        sonuc = sayi1 - sayi2\n",
        "    elif islem == '*':\n",
        "        sonuc = sayi1 * sayi2\n",
        "    elif islem == '/':\n",
        "        if sayi2 == 0:\n",
        "            raise ZeroDivisionError(\"Sıfıra bölme hatası!\")\n",
        "        sonuc = sayi1 / sayi2\n",
        "    else:\n",
        "        raise ValueError(\"Geçersiz işlem operatörü!\")\n",
        "\n",
        "    print(f\"İşlem sonucu: {sayi1} {islem} {sayi2} = {sonuc}\")\n",
        "\n",
        "except ValueError as e:\n",
        "\n",
        "    print(f\"Hata: Geçersiz giriş. Lütfen sayı ve geçerli operatör girin. ({e})\")\n",
        "except ZeroDivisionError as e:\n",
        "\n",
        "    print(f\"Hata: Matematiksel işlem hatası. ({e})\")\n",
        "except Exception as e:\n",
        "\n",
        "    print(f\"Beklenmedik bir hata oluştu: {e}\")"
      ],
      "metadata": {
        "colab": {
          "base_uri": "https://localhost:8080/"
        },
        "id": "IHeo2Sbs4Hc3",
        "outputId": "db778d11-2868-4286-da2a-3e6dc3ca3da9"
      },
      "execution_count": null,
      "outputs": [
        {
          "output_type": "stream",
          "name": "stdout",
          "text": [
            "Lütfen birinci sayıyı giriniz: 12\n",
            "Lütfen yapmak istediğiniz işlemi giriniz (+, -, *, /): /\n",
            "Lütfen ikinci sayıyı giriniz: 3\n",
            "İşlem sonucu: 12.0 / 3.0 = 4.0\n"
          ]
        }
      ]
    },
    {
      "cell_type": "code",
      "source": [
        "#6. +/- İşaretine Her Basıldığında Sayıyı Arttırma/Azaltma (Basit Döngü Simülasyonu)\n",
        "sayi = 0\n",
        "print(f\"Başlangıç değeri: {sayi}\")\n",
        "\n",
        "while True:\n",
        "        komut = input(\"Arttırmak için '+', azaltmak için '-', çıkmak için 'q' girin: \").lower()\n",
        "\n",
        "        if komut == '+':\n",
        "           sayi += 1\n",
        "           print(f\"Yeni değer: {sayi}\")\n",
        "        elif komut == '-':\n",
        "           sayi -= 1\n",
        "           print(f\"Yeni değer: {sayi}\")\n",
        "        elif komut == 'q':\n",
        "           print(\"Program sonlandırılıyor.\")\n",
        "           break\n",
        "        else:\n",
        "           print(\"Geçersiz komut. Lütfen '+', '-' veya 'q' girin.\")\n"
      ],
      "metadata": {
        "colab": {
          "base_uri": "https://localhost:8080/"
        },
        "id": "TIc1--TJ4ctf",
        "outputId": "2748ae97-e9f5-4912-e67f-1b8f2dfa0626"
      },
      "execution_count": null,
      "outputs": [
        {
          "output_type": "stream",
          "name": "stdout",
          "text": [
            "Başlangıç değeri: 0\n",
            "Arttırmak için '+', azaltmak için '-', çıkmak için 'q' girin: +\n",
            "Yeni değer: 1\n",
            "Arttırmak için '+', azaltmak için '-', çıkmak için 'q' girin: +\n",
            "Yeni değer: 2\n",
            "Arttırmak için '+', azaltmak için '-', çıkmak için 'q' girin: -\n",
            "Yeni değer: 1\n",
            "Arttırmak için '+', azaltmak için '-', çıkmak için 'q' girin: Q\n",
            "Program sonlandırılıyor.\n"
          ]
        }
      ]
    },
    {
      "cell_type": "code",
      "source": [
        "#7. +10 ile -10 Arasındaki Sayıları Ekrana Yazma\n",
        "for sayi in range(-10, 11):\n",
        "    print(sayi, end=\" \")\n",
        "print()"
      ],
      "metadata": {
        "colab": {
          "base_uri": "https://localhost:8080/"
        },
        "id": "nZwHtMsQ5JGL",
        "outputId": "16cfda59-6813-4ea1-c7b3-f02d5aa3b913"
      },
      "execution_count": null,
      "outputs": [
        {
          "output_type": "stream",
          "name": "stdout",
          "text": [
            "-10 -9 -8 -7 -6 -5 -4 -3 -2 -1 0 1 2 3 4 5 6 7 8 9 10 \n"
          ]
        }
      ]
    },
    {
      "cell_type": "code",
      "source": [
        "#8. Metindeki Her Harfin Arasına Virgül Koyma\n",
        "metin = input(\"Lütfen bir metin giriniz: \")\n",
        "virgullu_metin = \",\".join(metin)\n",
        "\n",
        "print(\"Virgüllü metin:\", virgullu_metin)"
      ],
      "metadata": {
        "colab": {
          "base_uri": "https://localhost:8080/"
        },
        "id": "RiPHraSv5QKX",
        "outputId": "7648ad87-43a1-436a-8fe2-80942ca1dd3a"
      },
      "execution_count": null,
      "outputs": [
        {
          "output_type": "stream",
          "name": "stdout",
          "text": [
            "Lütfen bir metin giriniz: bilge\n",
            "Virgüllü metin: b,i,l,g,e\n"
          ]
        }
      ]
    },
    {
      "cell_type": "code",
      "source": [
        "#9. 1 ile 100 Arasında Rastgele 10 Tam Sayı Üretip Dizi İçine Ekleme\n",
        "import random\n",
        "\n",
        "rastgele_sayilar = []\n",
        "\n",
        "for _ in range(10):\n",
        "\n",
        "    rastgele_sayi = random.randint(1, 100)\n",
        "    rastgele_sayilar.append(rastgele_sayi)\n",
        "\n",
        "print(\"Üretilen rastgele sayılar (10 adet):\", rastgele_sayilar)"
      ],
      "metadata": {
        "colab": {
          "base_uri": "https://localhost:8080/"
        },
        "id": "E4_A72Ks5ZYF",
        "outputId": "5dc2b433-c145-4e8b-d5ac-eb612489917f"
      },
      "execution_count": null,
      "outputs": [
        {
          "output_type": "stream",
          "name": "stdout",
          "text": [
            "Üretilen rastgele sayılar (10 adet): [29, 42, 78, 60, 90, 100, 20, 49, 4, 56]\n"
          ]
        }
      ]
    },
    {
      "cell_type": "code",
      "source": [
        "#10. -100 ile +100 Arasındaki 5’e Tam Bölünen Sayıları Yan Yana Gösterme\n",
        "bolunen_sayilar = []\n",
        "for sayi in range(-100, 101):\n",
        "\n",
        "    if sayi % 5 == 0:\n",
        "        bolunen_sayilar.append(str(sayi))\n",
        "\n",
        "\n",
        "print(\"5'e tam bölünen sayılar:\", \" \".join(bolunen_sayilar))"
      ],
      "metadata": {
        "colab": {
          "base_uri": "https://localhost:8080/"
        },
        "id": "pWFfb41w5j2l",
        "outputId": "1e980aa8-e746-4f1c-85dd-43f1b1425bee"
      },
      "execution_count": null,
      "outputs": [
        {
          "output_type": "stream",
          "name": "stdout",
          "text": [
            "5'e tam bölünen sayılar: -100 -95 -90 -85 -80 -75 -70 -65 -60 -55 -50 -45 -40 -35 -30 -25 -20 -15 -10 -5 0 5 10 15 20 25 30 35 40 45 50 55 60 65 70 75 80 85 90 95 100\n"
          ]
        }
      ]
    },
    {
      "cell_type": "code",
      "source": [
        "#11. Üç Adet Sayıyı Karşılaştırıp Sıralama\n",
        "\n",
        "try:\n",
        "    sayi1 = float(input(\"Birinci sayıyı giriniz: \"))\n",
        "    sayi2 = float(input(\"İkinci sayıyı giriniz: \"))\n",
        "    sayi3 = float(input(\"Üçüncü sayıyı giriniz: \"))\n",
        "\n",
        "\n",
        "    sayilar = [sayi1, sayi2, sayi3]\n",
        "\n",
        "    sayilar.sort()\n",
        "\n",
        "    print(\"Sayıların küçükten büyüğe sıralaması:\", sayilar)\n",
        "\n",
        "    sayilar.sort(reverse=True)\n",
        "    print(\"Sayıların büyükten küçüğe sıralaması:\", sayilar)\n",
        "\n",
        "except ValueError:\n",
        "    print(\"Hata: Lütfen geçerli sayısal değerler girin.\")"
      ],
      "metadata": {
        "colab": {
          "base_uri": "https://localhost:8080/"
        },
        "id": "7lwWquh-6Nns",
        "outputId": "fdccc92a-08c6-4cac-eb4d-47611246e530"
      },
      "execution_count": null,
      "outputs": [
        {
          "output_type": "stream",
          "name": "stdout",
          "text": [
            "Birinci sayıyı giriniz: 25\n",
            "İkinci sayıyı giriniz: 87\n",
            "Üçüncü sayıyı giriniz: 65\n",
            "Sayıların küçükten büyüğe sıralaması: [25.0, 65.0, 87.0]\n",
            "Sayıların büyükten küçüğe sıralaması: [87.0, 65.0, 25.0]\n"
          ]
        }
      ]
    },
    {
      "cell_type": "code",
      "source": [
        "#12. Faktöriyel Hesaplama ve Açılımını Yazdırma\n",
        "try:\n",
        "    n = int(input(\"Lütfen faktöriyelini hesaplamak istediğiniz bir tam sayı giriniz (n >= 0): \"))\n",
        "\n",
        "    if n < 0:\n",
        "        print(\"Hata: Faktöriyel negatif sayılar için tanımlı değildir.\")\n",
        "    elif n == 0:\n",
        "        print(\"0! = 1\")\n",
        "    else:\n",
        "        faktöriyel = 1\n",
        "        acilim_metni = \"\"\n",
        "\n",
        "        for i in range(1, n + 1):\n",
        "            faktöriyel *= i\n",
        "\n",
        "\n",
        "            if acilim_metni == \"\":\n",
        "                acilim_metni = str(i)\n",
        "            else:\n",
        "                acilim_metni = str(i) + \" * \" + acilim_metni\n",
        "\n",
        "\n",
        "        print(f\"Faktöriyel Açılımı: {n}! = {acilim_metni}\")\n",
        "        print(f\"Sonuç: {n}! = {faktöriyel}\")\n",
        "\n",
        "except ValueError:\n",
        "    print(\"Hata: Lütfen geçerli bir tam sayı girin.\")"
      ],
      "metadata": {
        "colab": {
          "base_uri": "https://localhost:8080/"
        },
        "id": "oZFuF_iy63xr",
        "outputId": "e1165958-5c86-4e20-e1ce-ce1ec739308d"
      },
      "execution_count": null,
      "outputs": [
        {
          "output_type": "stream",
          "name": "stdout",
          "text": [
            "Lütfen faktöriyelini hesaplamak istediğiniz bir tam sayı giriniz (n >= 0): 5\n",
            "Faktöriyel Açılımı: 5! = 5 * 4 * 3 * 2 * 1\n",
            "Sonuç: 5! = 120\n"
          ]
        }
      ]
    },
    {
      "cell_type": "code",
      "source": [
        "#13. Metindeki İlk Kelime ile Son Kelimeyi Bulma\n",
        "metin = input(\"Lütfen bir cümle veya metin giriniz: \").strip()\n",
        "\n",
        "kelimeler = metin.split()\n",
        "\n",
        "if not kelimeler:\n",
        "    print(\"Metin boş.\")\n",
        "else:\n",
        "\n",
        "    ilk_kelime = kelimeler[0]\n",
        "\n",
        "    son_kelime = kelimeler[-1]\n",
        "\n",
        "    print(f\"Metindeki tüm kelimeler: {kelimeler}\")\n",
        "    print(f\"İlk kelime: '{ilk_kelime}'\")\n",
        "    print(f\"Son kelime: '{son_kelime}'\")"
      ],
      "metadata": {
        "colab": {
          "base_uri": "https://localhost:8080/"
        },
        "id": "BM6yZrSt7BZ6",
        "outputId": "1481793e-30c4-4615-eb7a-3e3a65ea7e06"
      },
      "execution_count": null,
      "outputs": [
        {
          "output_type": "stream",
          "name": "stdout",
          "text": [
            "Lütfen bir cümle veya metin giriniz: Merhaba, ben Bilge.\n",
            "Metindeki tüm kelimeler: ['Merhaba,', 'ben', 'Bilge.']\n",
            "İlk kelime: 'Merhaba,'\n",
            "Son kelime: 'Bilge.'\n"
          ]
        }
      ]
    },
    {
      "cell_type": "code",
      "source": [
        "#14. Girilen Sayıların Toplamını ve Ortalamasını Bulma\n",
        "try:\n",
        "    adet = int(input(\"Kaç adet sayı gireceksiniz? \"))\n",
        "\n",
        "    if adet <= 0:\n",
        "        print(\"Geçerli bir sayı adedi girmediniz.\")\n",
        "    else:\n",
        "        toplam = 0\n",
        "\n",
        "\n",
        "        for i in range(adet):\n",
        "            sayi = float(input(f\"{i+1}. sayıyı giriniz: \"))\n",
        "            toplam += sayi\n",
        "\n",
        "\n",
        "        ortalama = toplam / adet\n",
        "\n",
        "        print(f\"\\nGirilen {adet} adet sayının toplamı: {toplam}\")\n",
        "        print(f\"Girilen sayıların ortalaması: {ortalama:.2f}\")\n",
        "except ValueError:\n",
        "    print(\"Hata: Lütfen geçerli bir tam sayı adedi veya ondalıklı sayı girin.\")"
      ],
      "metadata": {
        "colab": {
          "base_uri": "https://localhost:8080/"
        },
        "id": "04gJNmQC7Phu",
        "outputId": "4f005716-5f91-48f7-e901-428faed1497b"
      },
      "execution_count": null,
      "outputs": [
        {
          "output_type": "stream",
          "name": "stdout",
          "text": [
            "Kaç adet sayı gireceksiniz? 3\n",
            "1. sayıyı giriniz: 9\n",
            "2. sayıyı giriniz: 7\n",
            "3. sayıyı giriniz: 2\n",
            "\n",
            "Girilen 3 adet sayının toplamı: 18.0\n",
            "Girilen sayıların ortalaması: 6.00\n"
          ]
        }
      ]
    },
    {
      "cell_type": "code",
      "source": [
        "#15. Büyük Harfleri Küçük Harflere, Küçük Harfleri Büyük Harflere Dönüştürme\n",
        "metin = input(\"Lütfen bir metin giriniz: \")\n",
        "\n",
        "donusmus_metin = metin.swapcase()\n",
        "\n",
        "print(\"Orijinal metin:\", metin)\n",
        "print(\"Dönüşmüş metin:\", donusmus_metin)"
      ],
      "metadata": {
        "colab": {
          "base_uri": "https://localhost:8080/"
        },
        "id": "m0okXHhP7ckV",
        "outputId": "0752bd92-08d3-4f62-92e3-f205d349735a"
      },
      "execution_count": null,
      "outputs": [
        {
          "output_type": "stream",
          "name": "stdout",
          "text": [
            "Lütfen bir metin giriniz: Merhaba, ben Bilge.\n",
            "Orijinal metin: Merhaba, ben Bilge.\n",
            "Dönüşmüş metin: mERHABA, BEN bILGE.\n"
          ]
        }
      ]
    },
    {
      "cell_type": "code",
      "source": [
        "#16. Personel Maaşından Yüzdesel Zam Hesaplama\n",
        "try:\n",
        "\n",
        "    mevcut_maas = float(input(\"Lütfen mevcut personel maaşını giriniz: \"))\n",
        "    zam_orani = float(input(\"Lütfen yüzde kaç zam yapılacağını giriniz (Örn: 15 için 15): \"))\n",
        "\n",
        "    if mevcut_maas < 0 or zam_orani < 0:\n",
        "        print(\"Maaş ve zam oranı negatif olamaz.\")\n",
        "    else:\n",
        "\n",
        "        zam_miktari = mevcut_maas * (zam_orani / 100)\n",
        "\n",
        "\n",
        "        yeni_maas = mevcut_maas + zam_miktari\n",
        "\n",
        "        print(f\"\\nMevcut Maaş: {mevcut_maas:,.2f} TL\")\n",
        "        print(f\"Zam Oranı: %{zam_orani}\")\n",
        "        print(f\"Zam Miktarı: {zam_miktari:,.2f} TL\")\n",
        "        print(f\"Yeni Maaş: {yeni_maas:,.2f} TL\")\n",
        "except ValueError:\n",
        "    print(\"Hata: Lütfen geçerli sayısal değerler girin.\")"
      ],
      "metadata": {
        "colab": {
          "base_uri": "https://localhost:8080/"
        },
        "id": "lfpz9FlZ7ngk",
        "outputId": "936f15d3-7977-4a82-eb90-e78d8438356c"
      },
      "execution_count": null,
      "outputs": [
        {
          "output_type": "stream",
          "name": "stdout",
          "text": [
            "Lütfen mevcut personel maaşını giriniz: 80000\n",
            "Lütfen yüzde kaç zam yapılacağını giriniz (Örn: 15 için 15): 15\n",
            "\n",
            "Mevcut Maaş: 80,000.00 TL\n",
            "Zam Oranı: %15.0\n",
            "Zam Miktarı: 12,000.00 TL\n",
            "Yeni Maaş: 92,000.00 TL\n"
          ]
        }
      ]
    },
    {
      "cell_type": "code",
      "source": [
        "#17. Sayı Değerlerinin Toplamını Hesaplama (Basamak Toplamı)\n",
        "sayi_metin = input(\"Lütfen basamakları toplanacak bir sayı giriniz: \").strip()\n",
        "\n",
        "toplam = 0\n",
        "\n",
        "\n",
        "for basamak in sayi_metin:\n",
        "\n",
        "    if basamak.isdigit():\n",
        "\n",
        "        toplam += int(basamak)\n",
        "    else:\n",
        "        print(f\"Uyarı: '{basamak}' rakam değil, toplama dahil edilmedi.\")\n",
        "\n",
        "print(f\"Girilen sayının ({sayi_metin}) basamak değerleri toplamı: {toplam}\")\n",
        "\n"
      ],
      "metadata": {
        "colab": {
          "base_uri": "https://localhost:8080/"
        },
        "id": "t966N5vH71zs",
        "outputId": "8dac0e7e-ce30-452f-c7ab-1310e46a7c76"
      },
      "execution_count": null,
      "outputs": [
        {
          "output_type": "stream",
          "name": "stdout",
          "text": [
            "Lütfen basamakları toplanacak bir sayı giriniz: 12345\n",
            "Girilen sayının (12345) basamak değerleri toplamı: 15\n"
          ]
        }
      ]
    },
    {
      "cell_type": "code",
      "source": [
        "#18. Kullanıcının Sonsuz Sayıda Girdiği Değerlerin Yanına Tek/Çift Yazma\n",
        "\n",
        "print(\"Sayıları giriniz. Çıkmak için 'q' tuşuna basın.\")\n",
        "\n",
        "while True:\n",
        "    giris = input(\"Sayı girin (Çıkış için q): \").strip().lower()\n",
        "\n",
        "    if giris == 'q':\n",
        "        print(\"Program sonlandırıldı.\")\n",
        "        break\n",
        "\n",
        "    try:\n",
        "        sayi = int(giris)\n",
        "        if sayi % 2 == 0:\n",
        "            print(f\"{sayi} -> ÇİFT\")\n",
        "        else:\n",
        "            print(f\"{sayi} -> TEK\")\n",
        "\n",
        "    except ValueError:\n",
        "\n",
        "        print(\"Hata: Geçerli bir tam sayı girmediniz.\")\n"
      ],
      "metadata": {
        "colab": {
          "base_uri": "https://localhost:8080/"
        },
        "id": "eR4Wrsm58CXi",
        "outputId": "5cd02145-e45c-46b1-9f84-df5d6ac5b8b2"
      },
      "execution_count": null,
      "outputs": [
        {
          "output_type": "stream",
          "name": "stdout",
          "text": [
            "Sayıları giriniz. Çıkmak için 'q' tuşuna basın.\n",
            "Sayı girin (Çıkış için q): 6\n",
            "6 -> ÇİFT\n",
            "Sayı girin (Çıkış için q): 7\n",
            "7 -> TEK\n",
            "Sayı girin (Çıkış için q): q\n",
            "Program sonlandırıldı.\n"
          ]
        }
      ]
    },
    {
      "cell_type": "code",
      "source": [
        "#19. 1 ile 300 Arasındaki Sayılardan 11 Sayısına Bölünenleri Bulma\n",
        "bolunenler = []\n",
        "\n",
        "\n",
        "for sayi in range(1, 301):\n",
        "    if sayi % 11 == 0:\n",
        "        bolunenler.append(sayi)\n",
        "\n",
        "print(\"1 ile 300 arasındaki 11'e bölünen sayılar:\")\n",
        "print(bolunenler)\n",
        "print(f\"Toplam {len(bolunenler)} adet sayı bulundu.\")\n",
        "\n"
      ],
      "metadata": {
        "colab": {
          "base_uri": "https://localhost:8080/"
        },
        "id": "pFvCAhOr8QiW",
        "outputId": "53a3baba-5881-4a19-9815-1a8a9f81deae"
      },
      "execution_count": null,
      "outputs": [
        {
          "output_type": "stream",
          "name": "stdout",
          "text": [
            "1 ile 300 arasındaki 11'e bölünen sayılar:\n",
            "[11, 22, 33, 44, 55, 66, 77, 88, 99, 110, 121, 132, 143, 154, 165, 176, 187, 198, 209, 220, 231, 242, 253, 264, 275, 286, 297]\n",
            "Toplam 27 adet sayı bulundu.\n"
          ]
        }
      ]
    },
    {
      "cell_type": "code",
      "source": [
        "#20. Mutlak Sistemde Sınıfı Geçmek İçin Gereken Final Notunu Hesaplama\n",
        "try:\n",
        "    vize_notu = float(input(\"Lütfen Vize notunuzu giriniz: \"))\n",
        "    gecme_notu = float(input(\"Lütfen geçme notunu giriniz (Örn: 50): \"))\n",
        "\n",
        "    vize_agirlik = 0.40 # %40\n",
        "    final_agirlik = 0.60 # %60\n",
        "\n",
        "\n",
        "    vize_etkisi = vize_notu * vize_agirlik\n",
        "\n",
        "    gerekli_final_katkisi = gecme_notu - vize_etkisi\n",
        "\n",
        "    if gerekli_final_katkisi <= 0:\n",
        "        print(\"\\nTEBRİKLER! Vize notunuzla zaten sınıfı geçtiniz.\")\n",
        "        print(f\"Minimum final notu: 0\")\n",
        "    else:\n",
        "        gerekli_final_notu = gerekli_final_katkisi / final_agirlik\n",
        "\n",
        "        print(f\"\\nGeçme Notu: {gecme_notu}\")\n",
        "        print(f\"Vize Notunuz ({vize_notu}) toplam nota {vize_etkisi:.2f} puan katkı sağlıyor.\")\n",
        "\n",
        "        if gerekli_final_notu > 100:\n",
        "            print(f\"\\nÜzgünüz. Gerekli Final Notu: {gerekli_final_notu:.2f}. Bu not 100'den büyük olduğu için,\")\n",
        "            print(\"dersten KALDINIZ.\")\n",
        "        else:\n",
        "            print(f\"\\nSınıfı geçmek için Final'den almanız gereken minimum not: {gerekli_final_notu:.2f}\")\n",
        "\n",
        "except ValueError:\n",
        "    print(\"Hata: Lütfen geçerli sayısal notlar girin.\")"
      ],
      "metadata": {
        "colab": {
          "base_uri": "https://localhost:8080/"
        },
        "id": "DaC8U7K68Ux8",
        "outputId": "d2362765-0f09-468f-b938-47bde421216e"
      },
      "execution_count": null,
      "outputs": [
        {
          "output_type": "stream",
          "name": "stdout",
          "text": [
            "Lütfen Vize notunuzu giriniz: 75\n",
            "Lütfen geçme notunu giriniz (Örn: 50): 50\n",
            "\n",
            "Geçme Notu: 50.0\n",
            "Vize Notunuz (75.0) toplam nota 30.00 puan katkı sağlıyor.\n",
            "\n",
            "Sınıfı geçmek için Final'den almanız gereken minimum not: 33.33\n"
          ]
        }
      ]
    },
    {
      "cell_type": "code",
      "source": [
        "#21. Üç Kenarı Girilen Üçgenin Alanını Hesaplama (Heron Formülü)\n",
        "import math\n",
        "try:\n",
        "    a = float(input(\"Lütfen birinci kenar uzunluğunu (a) giriniz: \"))\n",
        "    b = float(input(\"Lütfen ikinci kenar uzunluğunu (b) giriniz: \"))\n",
        "    c = float(input(\"Lütfen üçüncü kenar uzunluğunu (c) giriniz: \"))\n",
        "\n",
        "\n",
        "    if not (a + b > c and a + c > b and b + c > a):\n",
        "        print(\"Hata: Girdiğiniz kenar uzunlukları bir üçgen oluşturmaz.\")\n",
        "    elif a <= 0 or b <= 0 or c <= 0:\n",
        "        print(\"Hata: Kenar uzunlukları pozitif olmalıdır.\")\n",
        "    else:\n",
        "        s = (a + b + c) / 2\n",
        "        alan = math.sqrt(s * (s - a) * (s - b) * (s - c))\n",
        "\n",
        "        print(f\"\\nYarı Çevre (s): {s:.2f}\")\n",
        "        print(f\"Üçgenin Alanı: {alan:.2f}\")\n",
        "\n",
        "except ValueError:\n",
        "    print(\"Hata: Lütfen geçerli sayısal değerler girin.\")\n",
        "\n"
      ],
      "metadata": {
        "colab": {
          "base_uri": "https://localhost:8080/"
        },
        "id": "eaeua2fb8t5H",
        "outputId": "05ce948f-461c-4c0f-e0d4-456cba1144ae"
      },
      "execution_count": null,
      "outputs": [
        {
          "output_type": "stream",
          "name": "stdout",
          "text": [
            "Lütfen birinci kenar uzunluğunu (a) giriniz: 8\n",
            "Lütfen ikinci kenar uzunluğunu (b) giriniz: 6\n",
            "Lütfen üçüncü kenar uzunluğunu (c) giriniz: 4\n",
            "\n",
            "Yarı Çevre (s): 9.00\n",
            "Üçgenin Alanı: 11.62\n"
          ]
        }
      ]
    },
    {
      "cell_type": "code",
      "source": [
        "#22. Metindeki Sesli Harf Sayısını Hesaplama\n",
        "metin = input(\"Lütfen bir metin giriniz: \")\n",
        "sesli_harfler = set(\"aeıioöuüAEIİOÖUÜ\")\n",
        "\n",
        "sesli_sayisi = 0\n",
        "\n",
        "for karakter in metin:\n",
        "    if karakter in sesli_harfler:\n",
        "        sesli_sayisi += 1\n",
        "\n",
        "print(f\"Girilen metin: '{metin}'\")\n",
        "print(f\"Metindeki sesli harf sayısı: {sesli_sayisi}\")"
      ],
      "metadata": {
        "colab": {
          "base_uri": "https://localhost:8080/"
        },
        "id": "UTl7MVso9A7R",
        "outputId": "ca8b8ad8-e392-4908-f8ef-7845efaf9703"
      },
      "execution_count": null,
      "outputs": [
        {
          "output_type": "stream",
          "name": "stdout",
          "text": [
            "Lütfen bir metin giriniz: Merhaba, ben Bilge.\n",
            "Girilen metin: 'Merhaba, ben Bilge.'\n",
            "Metindeki sesli harf sayısı: 6\n"
          ]
        }
      ]
    },
    {
      "cell_type": "code",
      "source": [
        "#23. Her Sayıyı Kendisi Kadar Yan Yana Yazdırma\n",
        "try:\n",
        "    maksimum_sayi = int(input(\"Lütfen bir pozitif tam sayı giriniz: \"))\n",
        "\n",
        "    if maksimum_sayi <= 0:\n",
        "        print(\"Lütfen pozitif bir tam sayı girin.\")\n",
        "    else:\n",
        "        print(\"\\nSonuç:\")\n",
        "        for sayi in range(1, maksimum_sayi + 1):\n",
        "\n",
        "            yazilacak_metin = str(sayi) * sayi\n",
        "            print(yazilacak_metin)\n",
        "\n",
        "except ValueError:\n",
        "    print(\"Hata: Lütfen geçerli bir tam sayı girin.\")"
      ],
      "metadata": {
        "colab": {
          "base_uri": "https://localhost:8080/"
        },
        "id": "Bruj6weB9MqE",
        "outputId": "40d65b35-2725-4b0a-a9d4-1431ac5062be"
      },
      "execution_count": null,
      "outputs": [
        {
          "output_type": "stream",
          "name": "stdout",
          "text": [
            "Lütfen bir pozitif tam sayı giriniz: 4\n",
            "\n",
            "Sonuç:\n",
            "1\n",
            "22\n",
            "333\n",
            "4444\n"
          ]
        }
      ]
    },
    {
      "cell_type": "code",
      "source": [
        "#24. Tekrarsız Rastgele Sayı Üretme\n",
        "import random\n",
        "\n",
        "adet = 10\n",
        "min_deger = 1\n",
        "max_deger = 50\n",
        "\n",
        "if adet > (max_deger - min_deger + 1):\n",
        "    print(\"Hata: İstenen sayı adedi, aralıktaki toplam sayı adedinden fazla olamaz.\")\n",
        "else:\n",
        "    tekrarsiz_sayilar = random.sample(range(min_deger, max_deger + 1), adet)\n",
        "\n",
        "    print(f\"{min_deger} ile {max_deger} arasında {adet} adet tekrarsız rastgele sayı:\")\n",
        "    print(tekrarsiz_sayilar)"
      ],
      "metadata": {
        "colab": {
          "base_uri": "https://localhost:8080/"
        },
        "id": "u3g1m70H9Wgp",
        "outputId": "e7d34fda-4650-4c3d-f9a6-771d13ebcef0"
      },
      "execution_count": null,
      "outputs": [
        {
          "output_type": "stream",
          "name": "stdout",
          "text": [
            "1 ile 50 arasında 10 adet tekrarsız rastgele sayı:\n",
            "[24, 13, 35, 31, 45, 21, 17, 49, 33, 28]\n"
          ]
        }
      ]
    },
    {
      "cell_type": "code",
      "source": [
        "#25. Asal Çarpanlarını Bulma\n",
        "try:\n",
        "    n = int(input(\"Lütfen asal çarpanlarını bulmak istediğiniz bir tam sayı giriniz (n > 1): \"))\n",
        "\n",
        "    if n <= 1:\n",
        "        print(\"Hata: Asal çarpanlar 1'den büyük sayılar için hesaplanır.\")\n",
        "    else:\n",
        "        temp_n = n\n",
        "        asal_carpanlar = []\n",
        "        carpan = 2\n",
        "\n",
        "        while temp_n > 1:\n",
        "            if temp_n % carpan == 0:\n",
        "                asal_carpanlar.append(carpan)\n",
        "                temp_n //= carpan\n",
        "            else:\n",
        "                carpan += 1\n",
        "\n",
        "        print(f\"\\n{n} sayısının asal çarpanları:\")\n",
        "        print(asal_carpanlar)\n",
        "\n",
        "        print(f\"Tekrarsız asal çarpanlar: {sorted(list(set(asal_carpanlar)))}\")\n",
        "\n",
        "except ValueError:\n",
        "    print(\"Hata: Lütfen geçerli bir tam sayı girin.\")"
      ],
      "metadata": {
        "colab": {
          "base_uri": "https://localhost:8080/"
        },
        "id": "KcCuyEUR9te1",
        "outputId": "41ce9286-9a84-4117-fbd6-84ba21f14453"
      },
      "execution_count": null,
      "outputs": [
        {
          "output_type": "stream",
          "name": "stdout",
          "text": [
            "Lütfen asal çarpanlarını bulmak istediğiniz bir tam sayı giriniz (n > 1): 12\n",
            "\n",
            "12 sayısının asal çarpanları:\n",
            "[2, 2, 3]\n",
            "Tekrarsız asal çarpanlar: [2, 3]\n"
          ]
        }
      ]
    },
    {
      "cell_type": "code",
      "source": [
        "#26. Metindeki En Uzun Kelimeyi Bulma\n",
        "metin = input(\"Lütfen bir metin giriniz: \").strip()\n",
        "temizlenmis_metin = metin.replace('.', '').replace(',', '').replace('!', '').replace('?', '').replace(':', '').replace(';', '')\n",
        "kelimeler = temizlenmis_metin.split()\n",
        "\n",
        "if not kelimeler:\n",
        "    print(\"Metin boş veya sadece noktalama işaretlerinden oluşuyor.\")\n",
        "else:\n",
        "\n",
        "    en_uzun_kelime = max(kelimeler, key=len)\n",
        "    en_uzunluk = len(en_uzun_kelime)\n",
        "\n",
        "    tum_en_uzunlar = [kelime for kelime in kelimeler if len(kelime) == en_uzunluk]\n",
        "\n",
        "    print(f\"Metindeki kelimeler: {kelimeler}\")\n",
        "    print(f\"En uzun kelime(ler): {tum_en_uzunlar}\")\n",
        "    print(f\"Uzunluk: {en_uzunluk}\")"
      ],
      "metadata": {
        "colab": {
          "base_uri": "https://localhost:8080/"
        },
        "id": "gTMZ67AL95AS",
        "outputId": "c0717147-0756-46c0-f134-51c1a73c3666"
      },
      "execution_count": null,
      "outputs": [
        {
          "output_type": "stream",
          "name": "stdout",
          "text": [
            "Lütfen bir metin giriniz: Merhaba, ben Bilge.\n",
            "Metindeki kelimeler: ['Merhaba', 'ben', 'Bilge']\n",
            "En uzun kelime(ler): ['Merhaba']\n",
            "Uzunluk: 7\n"
          ]
        }
      ]
    },
    {
      "cell_type": "code",
      "source": [
        "#27. Girilen Bir Notun Harf Karşılığını Bulma\n",
        "try:\n",
        "    not_degeri = float(input(\"Lütfen not değerini giriniz (0-100 arası): \"))\n",
        "\n",
        "    if not_degeri < 0 or not_degeri > 100:\n",
        "        harf_karsiligi = \"Hata: Not 0 ile 100 arasında olmalıdır.\"\n",
        "    elif not_degeri >= 90:\n",
        "        harf_karsiligi = \"AA (Mükemmel)\"\n",
        "    elif not_degeri >= 80:\n",
        "        harf_karsiligi = \"BA (Çok İyi)\"\n",
        "    elif not_degeri >= 70:\n",
        "        harf_karsiligi = \"BB (İyi)\"\n",
        "    elif not_degeri >= 60:\n",
        "        harf_karsiligi = \"CB (Orta)\"\n",
        "    elif not_degeri >= 50:\n",
        "        harf_karsiligi = \"CC (Şartlı Başarılı)\"\n",
        "    elif not_degeri >= 40:\n",
        "        harf_karsiligi = \"DC (Zayıf Başarılı)\"\n",
        "    else:\n",
        "        harf_karsiligi = \"FF (Başarısız/Kaldı)\"\n",
        "\n",
        "    print(f\"\\nGirilen not ({not_degeri}) harf karşılığı: {harf_karsiligi}\")\n",
        "\n",
        "except ValueError:\n",
        "    print(\"Hata: Lütfen geçerli bir sayısal not girin.\")"
      ],
      "metadata": {
        "colab": {
          "base_uri": "https://localhost:8080/"
        },
        "id": "SavQhVCE-Hfs",
        "outputId": "8f2babb9-7016-496a-ed7c-915d660bc350"
      },
      "execution_count": null,
      "outputs": [
        {
          "output_type": "stream",
          "name": "stdout",
          "text": [
            "Lütfen not değerini giriniz (0-100 arası): 95\n",
            "\n",
            "Girilen not (95.0) harf karşılığı: AA (Mükemmel)\n"
          ]
        }
      ]
    },
    {
      "cell_type": "code",
      "source": [
        "#28. Cümledeki Her Kelimeyi Tersten Yazdırma\n",
        "cumle = input(\"Lütfen bir cümle giriniz: \").strip()\n",
        "kelimeler = cumle.split()\n",
        "\n",
        "tersten_yazilmis_kelimeler = []\n",
        "\n",
        "for kelime in kelimeler:\n",
        "    ters_kelime = kelime[::-1]\n",
        "    tersten_yazilmis_kelimeler.append(ters_kelime)\n",
        "\n",
        "yeni_cumle = \" \".join(tersten_yazilmis_kelimeler)\n",
        "\n",
        "print(f\"Orijinal Cümle: {cumle}\")\n",
        "print(f\"Kelime kelime tersten yazılmış cümle: {yeni_cumle}\")"
      ],
      "metadata": {
        "colab": {
          "base_uri": "https://localhost:8080/"
        },
        "id": "HeE2all7-PP_",
        "outputId": "bb2325e1-3b22-40cc-9427-28add832cbfc"
      },
      "execution_count": null,
      "outputs": [
        {
          "output_type": "stream",
          "name": "stdout",
          "text": [
            "Lütfen bir cümle giriniz: Merhaba, ben Bilge.\n",
            "Orijinal Cümle: Merhaba, ben Bilge.\n",
            "Kelime kelime tersten yazılmış cümle: ,abahreM neb .egliB\n"
          ]
        }
      ]
    },
    {
      "cell_type": "code",
      "source": [
        "#29. Metni Mors Alfabesine Çevirme\n",
        "mors_alfabesi = {\n",
        "    'A': '.-', 'B': '-...', 'C': '-.-.', 'D': '-..', 'E': '.', 'F': '..-.',\n",
        "    'G': '--.', 'H': '....', 'I': '..', 'J': '.---', 'K': '-.-', 'L': '.-..',\n",
        "    'M': '--', 'N': '-.', 'O': '---', 'P': '.--.', 'Q': '--.-', 'R': '.-.',\n",
        "    'S': '...', 'T': '-', 'U': '..-', 'V': '...-', 'W': '.--', 'X': '-..-',\n",
        "    'Y': '-.--', 'Z': '--..',\n",
        "    '0': '-----', '1': '.----', '2': '..---', '3': '...--', '4': '....-',\n",
        "    '5': '.....', '6': '-....', '7': '--...', '8': '---..', '9': '----.',\n",
        "    ' ': '/',\n",
        "    '.': '.-.-.-', ',': '--..--', '?': '..--..', '/': '-..-.'\n",
        "}\n",
        "\n",
        "metin = input(\"Lütfen Mors Alfabesine çevrilecek bir metin giriniz: \")\n",
        "\n",
        "mors_kodu = []\n",
        "\n",
        "for karakter in metin.upper():\n",
        "\n",
        "    if karakter in mors_alfabesi:\n",
        "\n",
        "        mors_kodu.append(mors_alfabesi[karakter])\n",
        "    else:\n",
        "        mors_kodu.append('#')\n",
        "mors_sonuc = \" \".join(mors_kodu)\n",
        "\n",
        "print(f\"Orijinal Metin: {metin}\")\n",
        "print(f\"Mors Kodu: {mors_sonuc}\")\n",
        "print(\"\\nNot: Kelimeler arası '/' ile, harfler arası boşluk ile ayrılmıştır.\")"
      ],
      "metadata": {
        "colab": {
          "base_uri": "https://localhost:8080/"
        },
        "id": "Tg0f7Z9I-aez",
        "outputId": "0251d099-3a58-4fb8-be8e-8fdd8e8bfe7a"
      },
      "execution_count": null,
      "outputs": [
        {
          "output_type": "stream",
          "name": "stdout",
          "text": [
            "Lütfen Mors Alfabesine çevrilecek bir metin giriniz: Merhaba, ben Bilge.\n",
            "Orijinal Metin: Merhaba, ben Bilge.\n",
            "Mors Kodu: -- . .-. .... .- -... .- --..-- / -... . -. / -... .. .-.. --. . .-.-.-\n",
            "\n",
            "Not: Kelimeler arası '/' ile, harfler arası boşluk ile ayrılmıştır.\n"
          ]
        }
      ]
    },
    {
      "cell_type": "code",
      "source": [
        "#30. Kümülatif Toplam Hesaplama\n",
        "giris = input(\"Lütfen sayıları virgülle ayırarak giriniz (Örn: 10,5,20,3): \")\n",
        "\n",
        "try:\n",
        "    sayilar = [float(s.strip()) for s in giris.split(',')]\n",
        "\n",
        "    kumulatif_toplamlar = []\n",
        "    mevcut_toplam = 0\n",
        "\n",
        "    for sayi in sayilar:\n",
        "        mevcut_toplam += sayi\n",
        "        kumulatif_toplamlar.append(mevcut_toplam)\n",
        "\n",
        "    print(f\"Girilen Sayılar: {sayilar}\")\n",
        "    print(f\"Kümülatif Toplamlar: {kumulatif_toplamlar}\")\n",
        "\n",
        "except ValueError:\n",
        "    print(\"Hata: Lütfen sayıları virgülle ayırarak doğru formatta girin.\")"
      ],
      "metadata": {
        "colab": {
          "base_uri": "https://localhost:8080/"
        },
        "id": "C-r9JZEh-n2Y",
        "outputId": "e2706e5c-a2de-42b0-9358-9038fc17b2a6"
      },
      "execution_count": null,
      "outputs": [
        {
          "output_type": "stream",
          "name": "stdout",
          "text": [
            "Lütfen sayıları virgülle ayırarak giriniz (Örn: 10,5,20,3): 15,3,19,2\n",
            "Girilen Sayılar: [15.0, 3.0, 19.0, 2.0]\n",
            "Kümülatif Toplamlar: [15.0, 18.0, 37.0, 39.0]\n"
          ]
        }
      ]
    }
  ]
}